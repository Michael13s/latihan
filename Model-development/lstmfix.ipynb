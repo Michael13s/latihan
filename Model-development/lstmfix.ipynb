{
  "nbformat": 4,
  "nbformat_minor": 0,
  "metadata": {
    "colab": {
      "name": "lstmfix.ipynb",
      "provenance": [],
      "collapsed_sections": []
    },
    "kernelspec": {
      "name": "python3",
      "display_name": "Python 3"
    },
    "language_info": {
      "name": "python"
    }
  },
  "cells": [
    {
      "cell_type": "code",
      "execution_count": 1,
      "metadata": {
        "id": "kHSP8HsNFGA9"
      },
      "outputs": [],
      "source": [
        "import numpy as np\n",
        "from tensorflow.keras.models import Sequential\n",
        "from tensorflow.keras.layers import LSTM\n",
        "from tensorflow.keras.layers import Dense, Dropout\n",
        "import pandas as pd\n",
        "from matplotlib import pyplot as plt\n",
        "from sklearn.preprocessing import MinMaxScaler\n",
        "import seaborn as sns"
      ]
    },
    {
      "cell_type": "code",
      "source": [
        "df=pd.read_excel(\"project.xlsx\",parse_dates=[\"Date\"],index_col=[0])"
      ],
      "metadata": {
        "id": "uwR20MfRFJ-7"
      },
      "execution_count": 2,
      "outputs": []
    },
    {
      "cell_type": "code",
      "source": [
        "print(df.index.freq)"
      ],
      "metadata": {
        "colab": {
          "base_uri": "https://localhost:8080/"
        },
        "id": "fno3B4k0FX8x",
        "outputId": "88534b80-1005-437b-a2c6-983fa2967d5a"
      },
      "execution_count": 3,
      "outputs": [
        {
          "output_type": "stream",
          "name": "stdout",
          "text": [
            "None\n"
          ]
        }
      ]
    },
    {
      "cell_type": "code",
      "source": [
        "df.shape"
      ],
      "metadata": {
        "colab": {
          "base_uri": "https://localhost:8080/"
        },
        "id": "NEZKkgT-FaMs",
        "outputId": "5a7ea181-2167-4c45-ba9b-8a2f804be713"
      },
      "execution_count": 4,
      "outputs": [
        {
          "output_type": "execute_result",
          "data": {
            "text/plain": [
              "(861, 2)"
            ]
          },
          "metadata": {},
          "execution_count": 4
        }
      ]
    },
    {
      "cell_type": "code",
      "source": [
        "df.head()"
      ],
      "metadata": {
        "colab": {
          "base_uri": "https://localhost:8080/",
          "height": 238
        },
        "id": "W03tC_4uFeHx",
        "outputId": "73700bb4-37d3-4d56-cf76-cb87471f2937"
      },
      "execution_count": 5,
      "outputs": [
        {
          "output_type": "execute_result",
          "data": {
            "text/plain": [
              "            Wave  Wind\n",
              "Date                  \n",
              "2020-01-01  1526     7\n",
              "2020-01-02  1478     5\n",
              "2020-01-03  1441     6\n",
              "2020-01-04  1431     6\n",
              "2020-01-05  1469     9"
            ],
            "text/html": [
              "\n",
              "  <div id=\"df-f75df875-3c89-4d4e-a942-b285409bb504\">\n",
              "    <div class=\"colab-df-container\">\n",
              "      <div>\n",
              "<style scoped>\n",
              "    .dataframe tbody tr th:only-of-type {\n",
              "        vertical-align: middle;\n",
              "    }\n",
              "\n",
              "    .dataframe tbody tr th {\n",
              "        vertical-align: top;\n",
              "    }\n",
              "\n",
              "    .dataframe thead th {\n",
              "        text-align: right;\n",
              "    }\n",
              "</style>\n",
              "<table border=\"1\" class=\"dataframe\">\n",
              "  <thead>\n",
              "    <tr style=\"text-align: right;\">\n",
              "      <th></th>\n",
              "      <th>Wave</th>\n",
              "      <th>Wind</th>\n",
              "    </tr>\n",
              "    <tr>\n",
              "      <th>Date</th>\n",
              "      <th></th>\n",
              "      <th></th>\n",
              "    </tr>\n",
              "  </thead>\n",
              "  <tbody>\n",
              "    <tr>\n",
              "      <th>2020-01-01</th>\n",
              "      <td>1526</td>\n",
              "      <td>7</td>\n",
              "    </tr>\n",
              "    <tr>\n",
              "      <th>2020-01-02</th>\n",
              "      <td>1478</td>\n",
              "      <td>5</td>\n",
              "    </tr>\n",
              "    <tr>\n",
              "      <th>2020-01-03</th>\n",
              "      <td>1441</td>\n",
              "      <td>6</td>\n",
              "    </tr>\n",
              "    <tr>\n",
              "      <th>2020-01-04</th>\n",
              "      <td>1431</td>\n",
              "      <td>6</td>\n",
              "    </tr>\n",
              "    <tr>\n",
              "      <th>2020-01-05</th>\n",
              "      <td>1469</td>\n",
              "      <td>9</td>\n",
              "    </tr>\n",
              "  </tbody>\n",
              "</table>\n",
              "</div>\n",
              "      <button class=\"colab-df-convert\" onclick=\"convertToInteractive('df-f75df875-3c89-4d4e-a942-b285409bb504')\"\n",
              "              title=\"Convert this dataframe to an interactive table.\"\n",
              "              style=\"display:none;\">\n",
              "        \n",
              "  <svg xmlns=\"http://www.w3.org/2000/svg\" height=\"24px\"viewBox=\"0 0 24 24\"\n",
              "       width=\"24px\">\n",
              "    <path d=\"M0 0h24v24H0V0z\" fill=\"none\"/>\n",
              "    <path d=\"M18.56 5.44l.94 2.06.94-2.06 2.06-.94-2.06-.94-.94-2.06-.94 2.06-2.06.94zm-11 1L8.5 8.5l.94-2.06 2.06-.94-2.06-.94L8.5 2.5l-.94 2.06-2.06.94zm10 10l.94 2.06.94-2.06 2.06-.94-2.06-.94-.94-2.06-.94 2.06-2.06.94z\"/><path d=\"M17.41 7.96l-1.37-1.37c-.4-.4-.92-.59-1.43-.59-.52 0-1.04.2-1.43.59L10.3 9.45l-7.72 7.72c-.78.78-.78 2.05 0 2.83L4 21.41c.39.39.9.59 1.41.59.51 0 1.02-.2 1.41-.59l7.78-7.78 2.81-2.81c.8-.78.8-2.07 0-2.86zM5.41 20L4 18.59l7.72-7.72 1.47 1.35L5.41 20z\"/>\n",
              "  </svg>\n",
              "      </button>\n",
              "      \n",
              "  <style>\n",
              "    .colab-df-container {\n",
              "      display:flex;\n",
              "      flex-wrap:wrap;\n",
              "      gap: 12px;\n",
              "    }\n",
              "\n",
              "    .colab-df-convert {\n",
              "      background-color: #E8F0FE;\n",
              "      border: none;\n",
              "      border-radius: 50%;\n",
              "      cursor: pointer;\n",
              "      display: none;\n",
              "      fill: #1967D2;\n",
              "      height: 32px;\n",
              "      padding: 0 0 0 0;\n",
              "      width: 32px;\n",
              "    }\n",
              "\n",
              "    .colab-df-convert:hover {\n",
              "      background-color: #E2EBFA;\n",
              "      box-shadow: 0px 1px 2px rgba(60, 64, 67, 0.3), 0px 1px 3px 1px rgba(60, 64, 67, 0.15);\n",
              "      fill: #174EA6;\n",
              "    }\n",
              "\n",
              "    [theme=dark] .colab-df-convert {\n",
              "      background-color: #3B4455;\n",
              "      fill: #D2E3FC;\n",
              "    }\n",
              "\n",
              "    [theme=dark] .colab-df-convert:hover {\n",
              "      background-color: #434B5C;\n",
              "      box-shadow: 0px 1px 3px 1px rgba(0, 0, 0, 0.15);\n",
              "      filter: drop-shadow(0px 1px 2px rgba(0, 0, 0, 0.3));\n",
              "      fill: #FFFFFF;\n",
              "    }\n",
              "  </style>\n",
              "\n",
              "      <script>\n",
              "        const buttonEl =\n",
              "          document.querySelector('#df-f75df875-3c89-4d4e-a942-b285409bb504 button.colab-df-convert');\n",
              "        buttonEl.style.display =\n",
              "          google.colab.kernel.accessAllowed ? 'block' : 'none';\n",
              "\n",
              "        async function convertToInteractive(key) {\n",
              "          const element = document.querySelector('#df-f75df875-3c89-4d4e-a942-b285409bb504');\n",
              "          const dataTable =\n",
              "            await google.colab.kernel.invokeFunction('convertToInteractive',\n",
              "                                                     [key], {});\n",
              "          if (!dataTable) return;\n",
              "\n",
              "          const docLinkHtml = 'Like what you see? Visit the ' +\n",
              "            '<a target=\"_blank\" href=https://colab.research.google.com/notebooks/data_table.ipynb>data table notebook</a>'\n",
              "            + ' to learn more about interactive tables.';\n",
              "          element.innerHTML = '';\n",
              "          dataTable['output_type'] = 'display_data';\n",
              "          await google.colab.output.renderOutput(dataTable, element);\n",
              "          const docLink = document.createElement('div');\n",
              "          docLink.innerHTML = docLinkHtml;\n",
              "          element.appendChild(docLink);\n",
              "        }\n",
              "      </script>\n",
              "    </div>\n",
              "  </div>\n",
              "  "
            ]
          },
          "metadata": {},
          "execution_count": 5
        }
      ]
    },
    {
      "cell_type": "code",
      "source": [
        "df.tail()"
      ],
      "metadata": {
        "colab": {
          "base_uri": "https://localhost:8080/",
          "height": 238
        },
        "id": "x6zgCWQlFjMw",
        "outputId": "f6aa40d6-b480-4560-c96b-c70b75a4a363"
      },
      "execution_count": 6,
      "outputs": [
        {
          "output_type": "execute_result",
          "data": {
            "text/plain": [
              "            Wave  Wind\n",
              "Date                  \n",
              "2022-05-06  1501     6\n",
              "2022-05-07  1483     3\n",
              "2022-05-08  1436     3\n",
              "2022-05-09  1453     6\n",
              "2022-05-10  1518     6"
            ],
            "text/html": [
              "\n",
              "  <div id=\"df-3cda25d9-01c8-4380-a79c-07bd713cd442\">\n",
              "    <div class=\"colab-df-container\">\n",
              "      <div>\n",
              "<style scoped>\n",
              "    .dataframe tbody tr th:only-of-type {\n",
              "        vertical-align: middle;\n",
              "    }\n",
              "\n",
              "    .dataframe tbody tr th {\n",
              "        vertical-align: top;\n",
              "    }\n",
              "\n",
              "    .dataframe thead th {\n",
              "        text-align: right;\n",
              "    }\n",
              "</style>\n",
              "<table border=\"1\" class=\"dataframe\">\n",
              "  <thead>\n",
              "    <tr style=\"text-align: right;\">\n",
              "      <th></th>\n",
              "      <th>Wave</th>\n",
              "      <th>Wind</th>\n",
              "    </tr>\n",
              "    <tr>\n",
              "      <th>Date</th>\n",
              "      <th></th>\n",
              "      <th></th>\n",
              "    </tr>\n",
              "  </thead>\n",
              "  <tbody>\n",
              "    <tr>\n",
              "      <th>2022-05-06</th>\n",
              "      <td>1501</td>\n",
              "      <td>6</td>\n",
              "    </tr>\n",
              "    <tr>\n",
              "      <th>2022-05-07</th>\n",
              "      <td>1483</td>\n",
              "      <td>3</td>\n",
              "    </tr>\n",
              "    <tr>\n",
              "      <th>2022-05-08</th>\n",
              "      <td>1436</td>\n",
              "      <td>3</td>\n",
              "    </tr>\n",
              "    <tr>\n",
              "      <th>2022-05-09</th>\n",
              "      <td>1453</td>\n",
              "      <td>6</td>\n",
              "    </tr>\n",
              "    <tr>\n",
              "      <th>2022-05-10</th>\n",
              "      <td>1518</td>\n",
              "      <td>6</td>\n",
              "    </tr>\n",
              "  </tbody>\n",
              "</table>\n",
              "</div>\n",
              "      <button class=\"colab-df-convert\" onclick=\"convertToInteractive('df-3cda25d9-01c8-4380-a79c-07bd713cd442')\"\n",
              "              title=\"Convert this dataframe to an interactive table.\"\n",
              "              style=\"display:none;\">\n",
              "        \n",
              "  <svg xmlns=\"http://www.w3.org/2000/svg\" height=\"24px\"viewBox=\"0 0 24 24\"\n",
              "       width=\"24px\">\n",
              "    <path d=\"M0 0h24v24H0V0z\" fill=\"none\"/>\n",
              "    <path d=\"M18.56 5.44l.94 2.06.94-2.06 2.06-.94-2.06-.94-.94-2.06-.94 2.06-2.06.94zm-11 1L8.5 8.5l.94-2.06 2.06-.94-2.06-.94L8.5 2.5l-.94 2.06-2.06.94zm10 10l.94 2.06.94-2.06 2.06-.94-2.06-.94-.94-2.06-.94 2.06-2.06.94z\"/><path d=\"M17.41 7.96l-1.37-1.37c-.4-.4-.92-.59-1.43-.59-.52 0-1.04.2-1.43.59L10.3 9.45l-7.72 7.72c-.78.78-.78 2.05 0 2.83L4 21.41c.39.39.9.59 1.41.59.51 0 1.02-.2 1.41-.59l7.78-7.78 2.81-2.81c.8-.78.8-2.07 0-2.86zM5.41 20L4 18.59l7.72-7.72 1.47 1.35L5.41 20z\"/>\n",
              "  </svg>\n",
              "      </button>\n",
              "      \n",
              "  <style>\n",
              "    .colab-df-container {\n",
              "      display:flex;\n",
              "      flex-wrap:wrap;\n",
              "      gap: 12px;\n",
              "    }\n",
              "\n",
              "    .colab-df-convert {\n",
              "      background-color: #E8F0FE;\n",
              "      border: none;\n",
              "      border-radius: 50%;\n",
              "      cursor: pointer;\n",
              "      display: none;\n",
              "      fill: #1967D2;\n",
              "      height: 32px;\n",
              "      padding: 0 0 0 0;\n",
              "      width: 32px;\n",
              "    }\n",
              "\n",
              "    .colab-df-convert:hover {\n",
              "      background-color: #E2EBFA;\n",
              "      box-shadow: 0px 1px 2px rgba(60, 64, 67, 0.3), 0px 1px 3px 1px rgba(60, 64, 67, 0.15);\n",
              "      fill: #174EA6;\n",
              "    }\n",
              "\n",
              "    [theme=dark] .colab-df-convert {\n",
              "      background-color: #3B4455;\n",
              "      fill: #D2E3FC;\n",
              "    }\n",
              "\n",
              "    [theme=dark] .colab-df-convert:hover {\n",
              "      background-color: #434B5C;\n",
              "      box-shadow: 0px 1px 3px 1px rgba(0, 0, 0, 0.15);\n",
              "      filter: drop-shadow(0px 1px 2px rgba(0, 0, 0, 0.3));\n",
              "      fill: #FFFFFF;\n",
              "    }\n",
              "  </style>\n",
              "\n",
              "      <script>\n",
              "        const buttonEl =\n",
              "          document.querySelector('#df-3cda25d9-01c8-4380-a79c-07bd713cd442 button.colab-df-convert');\n",
              "        buttonEl.style.display =\n",
              "          google.colab.kernel.accessAllowed ? 'block' : 'none';\n",
              "\n",
              "        async function convertToInteractive(key) {\n",
              "          const element = document.querySelector('#df-3cda25d9-01c8-4380-a79c-07bd713cd442');\n",
              "          const dataTable =\n",
              "            await google.colab.kernel.invokeFunction('convertToInteractive',\n",
              "                                                     [key], {});\n",
              "          if (!dataTable) return;\n",
              "\n",
              "          const docLinkHtml = 'Like what you see? Visit the ' +\n",
              "            '<a target=\"_blank\" href=https://colab.research.google.com/notebooks/data_table.ipynb>data table notebook</a>'\n",
              "            + ' to learn more about interactive tables.';\n",
              "          element.innerHTML = '';\n",
              "          dataTable['output_type'] = 'display_data';\n",
              "          await google.colab.output.renderOutput(dataTable, element);\n",
              "          const docLink = document.createElement('div');\n",
              "          docLink.innerHTML = docLinkHtml;\n",
              "          element.appendChild(docLink);\n",
              "        }\n",
              "      </script>\n",
              "    </div>\n",
              "  </div>\n",
              "  "
            ]
          },
          "metadata": {},
          "execution_count": 6
        }
      ]
    },
    {
      "cell_type": "code",
      "source": [
        "test_split=round(len(df)*0.20)"
      ],
      "metadata": {
        "id": "rbj9VOcIFoHZ"
      },
      "execution_count": 7,
      "outputs": []
    },
    {
      "cell_type": "code",
      "source": [
        "test_split"
      ],
      "metadata": {
        "colab": {
          "base_uri": "https://localhost:8080/"
        },
        "id": "lCXIFbsWFujy",
        "outputId": "de7711ba-b16d-4943-f7ee-3b29cbbf3a4a"
      },
      "execution_count": 8,
      "outputs": [
        {
          "output_type": "execute_result",
          "data": {
            "text/plain": [
              "172"
            ]
          },
          "metadata": {},
          "execution_count": 8
        }
      ]
    },
    {
      "cell_type": "code",
      "source": [
        "df_for_training=df[:-172]\n",
        "df_for_testing=df[-172:]"
      ],
      "metadata": {
        "id": "6oKxQghZFwGM"
      },
      "execution_count": 9,
      "outputs": []
    },
    {
      "cell_type": "code",
      "source": [
        "print(df_for_training.shape)\n",
        "print(df_for_testing.shape)"
      ],
      "metadata": {
        "colab": {
          "base_uri": "https://localhost:8080/"
        },
        "id": "nNVpjhmJF4JO",
        "outputId": "3ff7a5bf-7343-4adc-a4e0-316fcb5ffb00"
      },
      "execution_count": 10,
      "outputs": [
        {
          "output_type": "stream",
          "name": "stdout",
          "text": [
            "(689, 2)\n",
            "(172, 2)\n"
          ]
        }
      ]
    },
    {
      "cell_type": "code",
      "source": [
        "scaler = MinMaxScaler(feature_range=(0,1))\n",
        "df_for_training_scaled = scaler.fit_transform(df_for_training)"
      ],
      "metadata": {
        "id": "WBJDZy-VF7kX"
      },
      "execution_count": 11,
      "outputs": []
    },
    {
      "cell_type": "code",
      "source": [
        "df_for_testing_scaled=scaler.transform(df_for_testing)"
      ],
      "metadata": {
        "id": "zBJONL7MF-Lr"
      },
      "execution_count": 12,
      "outputs": []
    },
    {
      "cell_type": "code",
      "source": [
        "df_for_training_scaled"
      ],
      "metadata": {
        "colab": {
          "base_uri": "https://localhost:8080/"
        },
        "id": "tG0ZYkAfGAls",
        "outputId": "9acdd1c6-a780-4091-cb58-4e007644e425"
      },
      "execution_count": 13,
      "outputs": [
        {
          "output_type": "execute_result",
          "data": {
            "text/plain": [
              "array([[0.8432856 , 0.23809524],\n",
              "       [0.83031613, 0.14285714],\n",
              "       [0.82031883, 0.19047619],\n",
              "       ...,\n",
              "       [0.87327749, 0.0952381 ],\n",
              "       [0.85787625, 0.14285714],\n",
              "       [0.86760335, 0.42857143]])"
            ]
          },
          "metadata": {},
          "execution_count": 13
        }
      ]
    },
    {
      "cell_type": "code",
      "source": [
        "df_for_training_scaled.shape"
      ],
      "metadata": {
        "colab": {
          "base_uri": "https://localhost:8080/"
        },
        "id": "ZbiieVcIGCmN",
        "outputId": "14d112ab-6464-4f64-b93e-c8dcb3207793"
      },
      "execution_count": 14,
      "outputs": [
        {
          "output_type": "execute_result",
          "data": {
            "text/plain": [
              "(689, 2)"
            ]
          },
          "metadata": {},
          "execution_count": 14
        }
      ]
    },
    {
      "cell_type": "code",
      "source": [
        "df_for_testing_scaled.shape"
      ],
      "metadata": {
        "colab": {
          "base_uri": "https://localhost:8080/"
        },
        "id": "nshVSl73GGKp",
        "outputId": "3b6a0780-ad1d-4a37-badf-0fee7e6f9b10"
      },
      "execution_count": 15,
      "outputs": [
        {
          "output_type": "execute_result",
          "data": {
            "text/plain": [
              "(172, 2)"
            ]
          },
          "metadata": {},
          "execution_count": 15
        }
      ]
    },
    {
      "cell_type": "code",
      "source": [
        "def createXY(dataset,n_past):\n",
        "    dataX = []\n",
        "    dataY = []\n",
        "    for i in range(n_past, len(dataset)):\n",
        "            dataX.append(dataset[i - n_past:i, 0:dataset.shape[1]])\n",
        "            dataY.append(dataset[i,0])\n",
        "    return np.array(dataX),np.array(dataY)   "
      ],
      "metadata": {
        "id": "HqA6SGUFGIMx"
      },
      "execution_count": 16,
      "outputs": []
    },
    {
      "cell_type": "code",
      "source": [
        "trainX,trainY=createXY(df_for_training_scaled,30)"
      ],
      "metadata": {
        "id": "7GfsLUezGLNX"
      },
      "execution_count": 17,
      "outputs": []
    },
    {
      "cell_type": "code",
      "source": [
        "trainX.shape"
      ],
      "metadata": {
        "colab": {
          "base_uri": "https://localhost:8080/"
        },
        "id": "hiElWcwwGNil",
        "outputId": "3781b487-8b75-41a7-9b4b-31649dcbfc60"
      },
      "execution_count": 18,
      "outputs": [
        {
          "output_type": "execute_result",
          "data": {
            "text/plain": [
              "(659, 30, 2)"
            ]
          },
          "metadata": {},
          "execution_count": 18
        }
      ]
    },
    {
      "cell_type": "code",
      "source": [
        "testX,testY=createXY(df_for_testing_scaled,30)"
      ],
      "metadata": {
        "id": "8wb7-XViGPs3"
      },
      "execution_count": 19,
      "outputs": []
    },
    {
      "cell_type": "code",
      "source": [
        "trainX[0]"
      ],
      "metadata": {
        "colab": {
          "base_uri": "https://localhost:8080/"
        },
        "id": "36PipumtGSVo",
        "outputId": "64b3a80a-6426-464d-a131-3ceac05e26fe"
      },
      "execution_count": 20,
      "outputs": [
        {
          "output_type": "execute_result",
          "data": {
            "text/plain": [
              "array([[0.8432856 , 0.23809524],\n",
              "       [0.83031613, 0.14285714],\n",
              "       [0.82031883, 0.19047619],\n",
              "       [0.81761686, 0.19047619],\n",
              "       [0.82788436, 0.33333333],\n",
              "       [0.83734126, 0.23809524],\n",
              "       [0.82112942, 0.19047619],\n",
              "       [0.83058633, 0.23809524],\n",
              "       [0.84841935, 0.23809524],\n",
              "       [0.8332883 , 0.47619048],\n",
              "       [0.80870035, 0.23809524],\n",
              "       [0.82085923, 0.0952381 ],\n",
              "       [0.83490948, 0.23809524],\n",
              "       [0.83815185, 0.0952381 ],\n",
              "       [0.8530127 , 0.04761905],\n",
              "       [0.84139422, 0.0952381 ],\n",
              "       [0.84760875, 0.14285714],\n",
              "       [0.85949743, 0.04761905],\n",
              "       [0.86030802, 0.19047619],\n",
              "       [0.86490138, 0.0952381 ],\n",
              "       [0.8524723 , 0.0952381 ],\n",
              "       [0.86165901, 0.0952381 ],\n",
              "       [0.        , 0.14285714],\n",
              "       [0.92839773, 0.19047619],\n",
              "       [0.8524723 , 0.14285714],\n",
              "       [0.85679546, 0.0952381 ],\n",
              "       [0.86652256, 0.0952381 ],\n",
              "       [0.85976763, 0.04761905],\n",
              "       [0.86598217, 0.23809524],\n",
              "       [0.8427452 , 0.04761905]])"
            ]
          },
          "metadata": {},
          "execution_count": 20
        }
      ]
    },
    {
      "cell_type": "code",
      "source": [
        "print(\"trainX Shape-- \",trainX.shape)\n",
        "print(\"trainY Shape-- \",trainY.shape)"
      ],
      "metadata": {
        "colab": {
          "base_uri": "https://localhost:8080/"
        },
        "id": "CmXjBVcqGVG4",
        "outputId": "39b8adda-4033-4663-f96c-38e3bb28d3ef"
      },
      "execution_count": 21,
      "outputs": [
        {
          "output_type": "stream",
          "name": "stdout",
          "text": [
            "trainX Shape--  (659, 30, 2)\n",
            "trainY Shape--  (659,)\n"
          ]
        }
      ]
    },
    {
      "cell_type": "code",
      "source": [
        "print(\"testX Shape-- \",testX.shape)\n",
        "print(\"testY Shape-- \",testY.shape)"
      ],
      "metadata": {
        "colab": {
          "base_uri": "https://localhost:8080/"
        },
        "id": "k8VPz482GYdT",
        "outputId": "8f3a1753-c7ba-47d4-f056-965c1678bb99"
      },
      "execution_count": 22,
      "outputs": [
        {
          "output_type": "stream",
          "name": "stdout",
          "text": [
            "testX Shape--  (142, 30, 2)\n",
            "testY Shape--  (142,)\n"
          ]
        }
      ]
    },
    {
      "cell_type": "code",
      "source": [
        "print(\"trainX[0]-- \\n\",trainX[0])\n",
        "print(\"\\ntrainY[0]-- \",trainY[0])"
      ],
      "metadata": {
        "colab": {
          "base_uri": "https://localhost:8080/"
        },
        "id": "9K7NpzoVGaSc",
        "outputId": "22131e01-ff57-4a61-a311-33a3f69a55c1"
      },
      "execution_count": 23,
      "outputs": [
        {
          "output_type": "stream",
          "name": "stdout",
          "text": [
            "trainX[0]-- \n",
            " [[0.8432856  0.23809524]\n",
            " [0.83031613 0.14285714]\n",
            " [0.82031883 0.19047619]\n",
            " [0.81761686 0.19047619]\n",
            " [0.82788436 0.33333333]\n",
            " [0.83734126 0.23809524]\n",
            " [0.82112942 0.19047619]\n",
            " [0.83058633 0.23809524]\n",
            " [0.84841935 0.23809524]\n",
            " [0.8332883  0.47619048]\n",
            " [0.80870035 0.23809524]\n",
            " [0.82085923 0.0952381 ]\n",
            " [0.83490948 0.23809524]\n",
            " [0.83815185 0.0952381 ]\n",
            " [0.8530127  0.04761905]\n",
            " [0.84139422 0.0952381 ]\n",
            " [0.84760875 0.14285714]\n",
            " [0.85949743 0.04761905]\n",
            " [0.86030802 0.19047619]\n",
            " [0.86490138 0.0952381 ]\n",
            " [0.8524723  0.0952381 ]\n",
            " [0.86165901 0.0952381 ]\n",
            " [0.         0.14285714]\n",
            " [0.92839773 0.19047619]\n",
            " [0.8524723  0.14285714]\n",
            " [0.85679546 0.0952381 ]\n",
            " [0.86652256 0.0952381 ]\n",
            " [0.85976763 0.04761905]\n",
            " [0.86598217 0.23809524]\n",
            " [0.8427452  0.04761905]]\n",
            "\n",
            "trainY[0]--  0.8473385571467171\n"
          ]
        }
      ]
    },
    {
      "cell_type": "code",
      "source": [
        "trainY[0]"
      ],
      "metadata": {
        "colab": {
          "base_uri": "https://localhost:8080/"
        },
        "id": "aOal7tvIGd7L",
        "outputId": "adad630e-9f03-478b-fd0c-0dbec94d895b"
      },
      "execution_count": 24,
      "outputs": [
        {
          "output_type": "execute_result",
          "data": {
            "text/plain": [
              "0.8473385571467171"
            ]
          },
          "metadata": {},
          "execution_count": 24
        }
      ]
    },
    {
      "cell_type": "code",
      "source": [
        "trainY.shape"
      ],
      "metadata": {
        "colab": {
          "base_uri": "https://localhost:8080/"
        },
        "id": "7ea_5DGuGkCM",
        "outputId": "7c6201e7-44b3-4247-b15f-a251566dc2c0"
      },
      "execution_count": 25,
      "outputs": [
        {
          "output_type": "execute_result",
          "data": {
            "text/plain": [
              "(659,)"
            ]
          },
          "metadata": {},
          "execution_count": 25
        }
      ]
    },
    {
      "cell_type": "code",
      "source": [
        "from keras.wrappers.scikit_learn import KerasRegressor\n",
        "from sklearn.model_selection import GridSearchCV"
      ],
      "metadata": {
        "id": "Ql3TA59FGmk4"
      },
      "execution_count": 26,
      "outputs": []
    },
    {
      "cell_type": "code",
      "source": [
        "def build_model(optimizer):\n",
        "    grid_model = Sequential()\n",
        "    grid_model.add(LSTM(50,return_sequences=True,input_shape=(30,2)))\n",
        "    grid_model.add(LSTM(50))\n",
        "    grid_model.add(Dropout(0.2))\n",
        "    grid_model.add(Dense(2))\n",
        "   \n",
        "\n",
        "    grid_model.compile(loss = 'mse',optimizer = optimizer)\n",
        "    return grid_model\n",
        "\n",
        "grid_model = KerasRegressor(build_fn=build_model,verbose=1,validation_data=(testX,testY))\n",
        "parameters = {'batch_size' : [16,20],\n",
        "              'epochs' : [8,10],\n",
        "              'optimizer' : ['adam','Adadelta'] }\n",
        "\n",
        "grid_search  = GridSearchCV(estimator = grid_model,\n",
        "                            param_grid = parameters,\n",
        "                            cv = 2)"
      ],
      "metadata": {
        "colab": {
          "base_uri": "https://localhost:8080/"
        },
        "id": "pCd93VFFGp_S",
        "outputId": "39515525-abfe-4071-8580-1940342974ec"
      },
      "execution_count": 27,
      "outputs": [
        {
          "output_type": "stream",
          "name": "stderr",
          "text": [
            "/usr/local/lib/python3.7/dist-packages/ipykernel_launcher.py:12: DeprecationWarning: KerasRegressor is deprecated, use Sci-Keras (https://github.com/adriangb/scikeras) instead. See https://www.adriangb.com/scikeras/stable/migration.html for help migrating.\n",
            "  if sys.path[0] == '':\n"
          ]
        }
      ]
    },
    {
      "cell_type": "code",
      "source": [
        "grid_search = grid_search.fit(trainX,trainY)"
      ],
      "metadata": {
        "colab": {
          "base_uri": "https://localhost:8080/"
        },
        "id": "oNk8X-0zGuRD",
        "outputId": "2498657f-08f0-4cc4-a373-d27a86392926"
      },
      "execution_count": 28,
      "outputs": [
        {
          "output_type": "stream",
          "name": "stdout",
          "text": [
            "Epoch 1/8\n",
            "21/21 [==============================] - 5s 73ms/step - loss: 0.1487 - val_loss: 0.0210\n",
            "Epoch 2/8\n",
            "21/21 [==============================] - 1s 36ms/step - loss: 0.0238 - val_loss: 0.0024\n",
            "Epoch 3/8\n",
            "21/21 [==============================] - 1s 33ms/step - loss: 0.0172 - val_loss: 0.0019\n",
            "Epoch 4/8\n",
            "21/21 [==============================] - 1s 34ms/step - loss: 0.0148 - val_loss: 0.0029\n",
            "Epoch 5/8\n",
            "21/21 [==============================] - 1s 34ms/step - loss: 0.0150 - val_loss: 0.0020\n",
            "Epoch 6/8\n",
            "21/21 [==============================] - 1s 33ms/step - loss: 0.0149 - val_loss: 0.0021\n",
            "Epoch 7/8\n",
            "21/21 [==============================] - 1s 33ms/step - loss: 0.0142 - val_loss: 0.0027\n",
            "Epoch 8/8\n",
            "21/21 [==============================] - 1s 32ms/step - loss: 0.0133 - val_loss: 0.0023\n",
            "21/21 [==============================] - 0s 8ms/step - loss: 0.0017\n",
            "Epoch 1/8\n",
            "21/21 [==============================] - 5s 73ms/step - loss: 0.1435 - val_loss: 0.0213\n",
            "Epoch 2/8\n",
            "21/21 [==============================] - 1s 33ms/step - loss: 0.0209 - val_loss: 0.0042\n",
            "Epoch 3/8\n",
            "21/21 [==============================] - 1s 33ms/step - loss: 0.0148 - val_loss: 0.0020\n",
            "Epoch 4/8\n",
            "21/21 [==============================] - 1s 33ms/step - loss: 0.0106 - val_loss: 0.0017\n",
            "Epoch 5/8\n",
            "21/21 [==============================] - 1s 34ms/step - loss: 0.0109 - val_loss: 0.0019\n",
            "Epoch 6/8\n",
            "21/21 [==============================] - 1s 34ms/step - loss: 0.0105 - val_loss: 0.0017\n",
            "Epoch 7/8\n",
            "21/21 [==============================] - 1s 32ms/step - loss: 0.0090 - val_loss: 0.0017\n",
            "Epoch 8/8\n",
            "21/21 [==============================] - 1s 34ms/step - loss: 0.0089 - val_loss: 0.0017\n",
            "21/21 [==============================] - 0s 8ms/step - loss: 0.0058\n",
            "Epoch 1/8\n",
            "21/21 [==============================] - 6s 74ms/step - loss: 0.8177 - val_loss: 0.7693\n",
            "Epoch 2/8\n",
            "21/21 [==============================] - 1s 33ms/step - loss: 0.8162 - val_loss: 0.7651\n",
            "Epoch 3/8\n",
            "21/21 [==============================] - 1s 33ms/step - loss: 0.8108 - val_loss: 0.7609\n",
            "Epoch 4/8\n",
            "21/21 [==============================] - 1s 34ms/step - loss: 0.8056 - val_loss: 0.7567\n",
            "Epoch 5/8\n",
            "21/21 [==============================] - 1s 33ms/step - loss: 0.8046 - val_loss: 0.7524\n",
            "Epoch 6/8\n",
            "21/21 [==============================] - 1s 34ms/step - loss: 0.8011 - val_loss: 0.7480\n",
            "Epoch 7/8\n",
            "21/21 [==============================] - 1s 33ms/step - loss: 0.7945 - val_loss: 0.7436\n",
            "Epoch 8/8\n",
            "21/21 [==============================] - 1s 32ms/step - loss: 0.7933 - val_loss: 0.7392\n",
            "21/21 [==============================] - 0s 12ms/step - loss: 0.8490\n",
            "Epoch 1/8\n",
            "21/21 [==============================] - 5s 96ms/step - loss: 0.7671 - val_loss: 0.6639\n",
            "Epoch 2/8\n",
            "21/21 [==============================] - 1s 33ms/step - loss: 0.7643 - val_loss: 0.6605\n",
            "Epoch 3/8\n",
            "21/21 [==============================] - 1s 32ms/step - loss: 0.7609 - val_loss: 0.6570\n",
            "Epoch 4/8\n",
            "21/21 [==============================] - 1s 32ms/step - loss: 0.7525 - val_loss: 0.6535\n",
            "Epoch 5/8\n",
            "21/21 [==============================] - 1s 32ms/step - loss: 0.7545 - val_loss: 0.6500\n",
            "Epoch 6/8\n",
            "21/21 [==============================] - 1s 33ms/step - loss: 0.7438 - val_loss: 0.6464\n",
            "Epoch 7/8\n",
            "21/21 [==============================] - 1s 31ms/step - loss: 0.7405 - val_loss: 0.6428\n",
            "Epoch 8/8\n",
            "21/21 [==============================] - 1s 33ms/step - loss: 0.7394 - val_loss: 0.6391\n",
            "21/21 [==============================] - 0s 7ms/step - loss: 0.6810\n",
            "Epoch 1/10\n",
            "21/21 [==============================] - 5s 76ms/step - loss: 0.1901 - val_loss: 0.0219\n",
            "Epoch 2/10\n",
            "21/21 [==============================] - 1s 35ms/step - loss: 0.0271 - val_loss: 0.0021\n",
            "Epoch 3/10\n",
            "21/21 [==============================] - 1s 33ms/step - loss: 0.0183 - val_loss: 0.0024\n",
            "Epoch 4/10\n",
            "21/21 [==============================] - 1s 35ms/step - loss: 0.0187 - val_loss: 0.0018\n",
            "Epoch 5/10\n",
            "21/21 [==============================] - 1s 34ms/step - loss: 0.0163 - val_loss: 0.0018\n",
            "Epoch 6/10\n",
            "21/21 [==============================] - 1s 34ms/step - loss: 0.0154 - val_loss: 0.0043\n",
            "Epoch 7/10\n",
            "21/21 [==============================] - 1s 35ms/step - loss: 0.0131 - val_loss: 0.0017\n",
            "Epoch 8/10\n",
            "21/21 [==============================] - 1s 35ms/step - loss: 0.0144 - val_loss: 0.0021\n",
            "Epoch 9/10\n",
            "21/21 [==============================] - 1s 34ms/step - loss: 0.0143 - val_loss: 0.0019\n",
            "Epoch 10/10\n",
            "21/21 [==============================] - 1s 33ms/step - loss: 0.0126 - val_loss: 0.0022\n",
            "21/21 [==============================] - 0s 8ms/step - loss: 0.0016\n",
            "Epoch 1/10\n",
            "21/21 [==============================] - 5s 73ms/step - loss: 0.1948 - val_loss: 0.0177\n",
            "Epoch 2/10\n",
            "21/21 [==============================] - 1s 34ms/step - loss: 0.0223 - val_loss: 0.0056\n",
            "Epoch 3/10\n",
            "21/21 [==============================] - 1s 34ms/step - loss: 0.0156 - val_loss: 0.0021\n",
            "Epoch 4/10\n",
            "21/21 [==============================] - 1s 33ms/step - loss: 0.0118 - val_loss: 0.0018\n",
            "Epoch 5/10\n",
            "21/21 [==============================] - 1s 34ms/step - loss: 0.0121 - val_loss: 0.0023\n",
            "Epoch 6/10\n",
            "21/21 [==============================] - 1s 34ms/step - loss: 0.0107 - val_loss: 0.0024\n",
            "Epoch 7/10\n",
            "21/21 [==============================] - 1s 34ms/step - loss: 0.0094 - val_loss: 0.0018\n",
            "Epoch 8/10\n",
            "21/21 [==============================] - 1s 34ms/step - loss: 0.0097 - val_loss: 0.0022\n",
            "Epoch 9/10\n",
            "21/21 [==============================] - 1s 33ms/step - loss: 0.0095 - val_loss: 0.0018\n",
            "Epoch 10/10\n",
            "21/21 [==============================] - 1s 34ms/step - loss: 0.0089 - val_loss: 0.0019\n",
            "21/21 [==============================] - 0s 7ms/step - loss: 0.0059\n",
            "Epoch 1/10\n",
            "21/21 [==============================] - 5s 72ms/step - loss: 0.6802 - val_loss: 0.6345\n",
            "Epoch 2/10\n",
            "21/21 [==============================] - 1s 31ms/step - loss: 0.6747 - val_loss: 0.6316\n",
            "Epoch 3/10\n",
            "21/21 [==============================] - 1s 33ms/step - loss: 0.6712 - val_loss: 0.6287\n",
            "Epoch 4/10\n",
            "21/21 [==============================] - 1s 32ms/step - loss: 0.6705 - val_loss: 0.6257\n",
            "Epoch 5/10\n",
            "21/21 [==============================] - 1s 32ms/step - loss: 0.6677 - val_loss: 0.6227\n",
            "Epoch 6/10\n",
            "21/21 [==============================] - 1s 34ms/step - loss: 0.6609 - val_loss: 0.6196\n",
            "Epoch 7/10\n",
            "21/21 [==============================] - 1s 33ms/step - loss: 0.6569 - val_loss: 0.6165\n",
            "Epoch 8/10\n",
            "21/21 [==============================] - 1s 32ms/step - loss: 0.6575 - val_loss: 0.6134\n",
            "Epoch 9/10\n",
            "21/21 [==============================] - 1s 34ms/step - loss: 0.6507 - val_loss: 0.6103\n",
            "Epoch 10/10\n",
            "21/21 [==============================] - 1s 34ms/step - loss: 0.6491 - val_loss: 0.6070\n",
            "21/21 [==============================] - 0s 7ms/step - loss: 0.6979\n",
            "Epoch 1/10\n",
            "21/21 [==============================] - 5s 76ms/step - loss: 0.7184 - val_loss: 0.6197\n",
            "Epoch 2/10\n",
            "21/21 [==============================] - 1s 33ms/step - loss: 0.7166 - val_loss: 0.6168\n",
            "Epoch 3/10\n",
            "21/21 [==============================] - 1s 32ms/step - loss: 0.7093 - val_loss: 0.6138\n",
            "Epoch 4/10\n",
            "21/21 [==============================] - 1s 33ms/step - loss: 0.7071 - val_loss: 0.6107\n",
            "Epoch 5/10\n",
            "21/21 [==============================] - 1s 33ms/step - loss: 0.7025 - val_loss: 0.6076\n",
            "Epoch 6/10\n",
            "21/21 [==============================] - 1s 34ms/step - loss: 0.6989 - val_loss: 0.6045\n",
            "Epoch 7/10\n",
            "21/21 [==============================] - 1s 33ms/step - loss: 0.6945 - val_loss: 0.6014\n",
            "Epoch 8/10\n",
            "21/21 [==============================] - 1s 35ms/step - loss: 0.6920 - val_loss: 0.5982\n",
            "Epoch 9/10\n",
            "21/21 [==============================] - 1s 32ms/step - loss: 0.6924 - val_loss: 0.5949\n",
            "Epoch 10/10\n",
            "21/21 [==============================] - 1s 33ms/step - loss: 0.6861 - val_loss: 0.5916\n",
            "21/21 [==============================] - 0s 8ms/step - loss: 0.6307\n",
            "Epoch 1/8\n",
            "17/17 [==============================] - 5s 87ms/step - loss: 0.1829 - val_loss: 0.0095\n",
            "Epoch 2/8\n",
            "17/17 [==============================] - 1s 35ms/step - loss: 0.0315 - val_loss: 0.0076\n",
            "Epoch 3/8\n",
            "17/17 [==============================] - 1s 36ms/step - loss: 0.0165 - val_loss: 0.0020\n",
            "Epoch 4/8\n",
            "17/17 [==============================] - 1s 36ms/step - loss: 0.0143 - val_loss: 0.0019\n",
            "Epoch 5/8\n",
            "17/17 [==============================] - 1s 35ms/step - loss: 0.0136 - val_loss: 0.0018\n",
            "Epoch 6/8\n",
            "17/17 [==============================] - 1s 35ms/step - loss: 0.0132 - val_loss: 0.0021\n",
            "Epoch 7/8\n",
            "17/17 [==============================] - 1s 35ms/step - loss: 0.0123 - val_loss: 0.0022\n",
            "Epoch 8/8\n",
            "17/17 [==============================] - 1s 36ms/step - loss: 0.0140 - val_loss: 0.0017\n",
            "17/17 [==============================] - 0s 8ms/step - loss: 0.0018\n",
            "Epoch 1/8\n",
            "17/17 [==============================] - 5s 85ms/step - loss: 0.2711 - val_loss: 0.0122\n",
            "Epoch 2/8\n",
            "17/17 [==============================] - 1s 35ms/step - loss: 0.0284 - val_loss: 0.0052\n",
            "Epoch 3/8\n",
            "17/17 [==============================] - 1s 35ms/step - loss: 0.0142 - val_loss: 0.0027\n",
            "Epoch 4/8\n",
            "17/17 [==============================] - 1s 36ms/step - loss: 0.0108 - val_loss: 0.0018\n",
            "Epoch 5/8\n",
            "17/17 [==============================] - 1s 36ms/step - loss: 0.0126 - val_loss: 0.0018\n",
            "Epoch 6/8\n",
            "17/17 [==============================] - 1s 37ms/step - loss: 0.0102 - val_loss: 0.0019\n",
            "Epoch 7/8\n",
            "17/17 [==============================] - 1s 38ms/step - loss: 0.0098 - val_loss: 0.0019\n",
            "Epoch 8/8\n",
            "17/17 [==============================] - 1s 36ms/step - loss: 0.0098 - val_loss: 0.0017\n",
            "17/17 [==============================] - 0s 8ms/step - loss: 0.0058\n",
            "Epoch 1/8\n",
            "17/17 [==============================] - 5s 109ms/step - loss: 0.6006 - val_loss: 0.5636\n",
            "Epoch 2/8\n",
            "17/17 [==============================] - 1s 35ms/step - loss: 0.5990 - val_loss: 0.5617\n",
            "Epoch 3/8\n",
            "17/17 [==============================] - 1s 35ms/step - loss: 0.5964 - val_loss: 0.5596\n",
            "Epoch 4/8\n",
            "17/17 [==============================] - 1s 35ms/step - loss: 0.5976 - val_loss: 0.5575\n",
            "Epoch 5/8\n",
            "17/17 [==============================] - 1s 37ms/step - loss: 0.5924 - val_loss: 0.5554\n",
            "Epoch 6/8\n",
            "17/17 [==============================] - 1s 37ms/step - loss: 0.5945 - val_loss: 0.5533\n",
            "Epoch 7/8\n",
            "17/17 [==============================] - 1s 35ms/step - loss: 0.5892 - val_loss: 0.5511\n",
            "Epoch 8/8\n",
            "17/17 [==============================] - 1s 36ms/step - loss: 0.5907 - val_loss: 0.5489\n",
            "17/17 [==============================] - 0s 9ms/step - loss: 0.6301\n",
            "Epoch 1/8\n",
            "17/17 [==============================] - 5s 84ms/step - loss: 0.6070 - val_loss: 0.5255\n",
            "Epoch 2/8\n",
            "17/17 [==============================] - 1s 35ms/step - loss: 0.6033 - val_loss: 0.5228\n",
            "Epoch 3/8\n",
            "17/17 [==============================] - 1s 34ms/step - loss: 0.5978 - val_loss: 0.5201\n",
            "Epoch 4/8\n",
            "17/17 [==============================] - 1s 35ms/step - loss: 0.6022 - val_loss: 0.5173\n",
            "Epoch 5/8\n",
            "17/17 [==============================] - 1s 36ms/step - loss: 0.5900 - val_loss: 0.5145\n",
            "Epoch 6/8\n",
            "17/17 [==============================] - 1s 34ms/step - loss: 0.5904 - val_loss: 0.5116\n",
            "Epoch 7/8\n",
            "17/17 [==============================] - 1s 35ms/step - loss: 0.5860 - val_loss: 0.5087\n",
            "Epoch 8/8\n",
            "17/17 [==============================] - 1s 35ms/step - loss: 0.5863 - val_loss: 0.5058\n",
            "17/17 [==============================] - 0s 8ms/step - loss: 0.5401\n",
            "Epoch 1/10\n",
            "17/17 [==============================] - 5s 87ms/step - loss: 0.1694 - val_loss: 0.0063\n",
            "Epoch 2/10\n",
            "17/17 [==============================] - 1s 35ms/step - loss: 0.0293 - val_loss: 0.0050\n",
            "Epoch 3/10\n",
            "17/17 [==============================] - 1s 37ms/step - loss: 0.0176 - val_loss: 0.0028\n",
            "Epoch 4/10\n",
            "17/17 [==============================] - 1s 37ms/step - loss: 0.0153 - val_loss: 0.0022\n",
            "Epoch 5/10\n",
            "17/17 [==============================] - 1s 35ms/step - loss: 0.0125 - val_loss: 0.0025\n",
            "Epoch 6/10\n",
            "17/17 [==============================] - 1s 36ms/step - loss: 0.0142 - val_loss: 0.0018\n",
            "Epoch 7/10\n",
            "17/17 [==============================] - 1s 35ms/step - loss: 0.0141 - val_loss: 0.0024\n",
            "Epoch 8/10\n",
            "17/17 [==============================] - 1s 37ms/step - loss: 0.0136 - val_loss: 0.0022\n",
            "Epoch 9/10\n",
            "17/17 [==============================] - 1s 41ms/step - loss: 0.0112 - val_loss: 0.0017\n",
            "Epoch 10/10\n",
            "17/17 [==============================] - 1s 34ms/step - loss: 0.0109 - val_loss: 0.0029\n",
            "17/17 [==============================] - 0s 9ms/step - loss: 0.0020\n",
            "Epoch 1/10\n",
            "17/17 [==============================] - 5s 86ms/step - loss: 0.1645 - val_loss: 0.0031\n",
            "Epoch 2/10\n",
            "17/17 [==============================] - 1s 34ms/step - loss: 0.0209 - val_loss: 0.0060\n",
            "Epoch 3/10\n",
            "17/17 [==============================] - 1s 36ms/step - loss: 0.0147 - val_loss: 0.0017\n",
            "Epoch 4/10\n",
            "17/17 [==============================] - 1s 35ms/step - loss: 0.0122 - val_loss: 0.0020\n",
            "Epoch 5/10\n",
            "17/17 [==============================] - 1s 36ms/step - loss: 0.0104 - val_loss: 0.0018\n",
            "Epoch 6/10\n",
            "17/17 [==============================] - 1s 36ms/step - loss: 0.0105 - val_loss: 0.0021\n",
            "Epoch 7/10\n",
            "17/17 [==============================] - 1s 36ms/step - loss: 0.0105 - val_loss: 0.0057\n",
            "Epoch 8/10\n",
            "17/17 [==============================] - 1s 35ms/step - loss: 0.0094 - val_loss: 0.0033\n",
            "Epoch 9/10\n",
            "17/17 [==============================] - 1s 35ms/step - loss: 0.0104 - val_loss: 0.0017\n",
            "Epoch 10/10\n",
            "17/17 [==============================] - 1s 35ms/step - loss: 0.0079 - val_loss: 0.0017\n",
            "17/17 [==============================] - 0s 8ms/step - loss: 0.0056\n",
            "Epoch 1/10\n",
            "17/17 [==============================] - 5s 88ms/step - loss: 0.7031 - val_loss: 0.6571\n",
            "Epoch 2/10\n",
            "17/17 [==============================] - 1s 35ms/step - loss: 0.6968 - val_loss: 0.6545\n",
            "Epoch 3/10\n",
            "17/17 [==============================] - 1s 35ms/step - loss: 0.6984 - val_loss: 0.6518\n",
            "Epoch 4/10\n",
            "17/17 [==============================] - 1s 36ms/step - loss: 0.6958 - val_loss: 0.6490\n",
            "Epoch 5/10\n",
            "17/17 [==============================] - 1s 33ms/step - loss: 0.6949 - val_loss: 0.6462\n",
            "Epoch 6/10\n",
            "17/17 [==============================] - 1s 36ms/step - loss: 0.6865 - val_loss: 0.6434\n",
            "Epoch 7/10\n",
            "17/17 [==============================] - 1s 34ms/step - loss: 0.6886 - val_loss: 0.6405\n",
            "Epoch 8/10\n",
            "17/17 [==============================] - 1s 35ms/step - loss: 0.6776 - val_loss: 0.6377\n",
            "Epoch 9/10\n",
            "17/17 [==============================] - 1s 34ms/step - loss: 0.6745 - val_loss: 0.6348\n",
            "Epoch 10/10\n",
            "17/17 [==============================] - 1s 35ms/step - loss: 0.6770 - val_loss: 0.6318\n",
            "17/17 [==============================] - 0s 8ms/step - loss: 0.7255\n",
            "Epoch 1/10\n",
            "17/17 [==============================] - 5s 82ms/step - loss: 0.7430 - val_loss: 0.6441\n",
            "Epoch 2/10\n",
            "17/17 [==============================] - 1s 36ms/step - loss: 0.7386 - val_loss: 0.6418\n",
            "Epoch 3/10\n",
            "17/17 [==============================] - 1s 37ms/step - loss: 0.7370 - val_loss: 0.6393\n",
            "Epoch 4/10\n",
            "17/17 [==============================] - 1s 35ms/step - loss: 0.7344 - val_loss: 0.6369\n",
            "Epoch 5/10\n",
            "17/17 [==============================] - 1s 34ms/step - loss: 0.7340 - val_loss: 0.6344\n",
            "Epoch 6/10\n",
            "17/17 [==============================] - 1s 34ms/step - loss: 0.7291 - val_loss: 0.6319\n",
            "Epoch 7/10\n",
            "17/17 [==============================] - 1s 34ms/step - loss: 0.7263 - val_loss: 0.6293\n",
            "Epoch 8/10\n",
            "17/17 [==============================] - 1s 35ms/step - loss: 0.7294 - val_loss: 0.6268\n",
            "Epoch 9/10\n",
            "17/17 [==============================] - 1s 36ms/step - loss: 0.7210 - val_loss: 0.6242\n",
            "Epoch 10/10\n",
            "17/17 [==============================] - 1s 36ms/step - loss: 0.7193 - val_loss: 0.6215\n",
            "17/17 [==============================] - 0s 9ms/step - loss: 0.6617\n",
            "Epoch 1/10\n",
            "42/42 [==============================] - 6s 53ms/step - loss: 0.0716 - val_loss: 0.0027\n",
            "Epoch 2/10\n",
            "42/42 [==============================] - 1s 32ms/step - loss: 0.0144 - val_loss: 0.0021\n",
            "Epoch 3/10\n",
            "42/42 [==============================] - 1s 31ms/step - loss: 0.0132 - val_loss: 0.0032\n",
            "Epoch 4/10\n",
            "42/42 [==============================] - 1s 31ms/step - loss: 0.0120 - val_loss: 0.0027\n",
            "Epoch 5/10\n",
            "42/42 [==============================] - 1s 32ms/step - loss: 0.0100 - val_loss: 0.0019\n",
            "Epoch 6/10\n",
            "42/42 [==============================] - 1s 32ms/step - loss: 0.0098 - val_loss: 0.0018\n",
            "Epoch 7/10\n",
            "42/42 [==============================] - 1s 32ms/step - loss: 0.0106 - val_loss: 0.0049\n",
            "Epoch 8/10\n",
            "42/42 [==============================] - 1s 33ms/step - loss: 0.0103 - val_loss: 0.0057\n",
            "Epoch 9/10\n",
            "42/42 [==============================] - 1s 33ms/step - loss: 0.0095 - val_loss: 0.0017\n",
            "Epoch 10/10\n",
            "42/42 [==============================] - 1s 32ms/step - loss: 0.0097 - val_loss: 0.0019\n"
          ]
        }
      ]
    },
    {
      "cell_type": "code",
      "source": [
        "grid_search.best_params_"
      ],
      "metadata": {
        "colab": {
          "base_uri": "https://localhost:8080/"
        },
        "id": "LQzAp-1AIS-J",
        "outputId": "55124aac-9b94-4d72-d5a0-363ee1ada047"
      },
      "execution_count": 29,
      "outputs": [
        {
          "output_type": "execute_result",
          "data": {
            "text/plain": [
              "{'batch_size': 16, 'epochs': 10, 'optimizer': 'adam'}"
            ]
          },
          "metadata": {},
          "execution_count": 29
        }
      ]
    },
    {
      "cell_type": "code",
      "source": [
        "my_model=grid_search.best_estimator_.model"
      ],
      "metadata": {
        "id": "s8iHeIVqIWZZ"
      },
      "execution_count": 30,
      "outputs": []
    },
    {
      "cell_type": "code",
      "source": [
        "my_model"
      ],
      "metadata": {
        "colab": {
          "base_uri": "https://localhost:8080/"
        },
        "id": "mJcPrL1QIYhy",
        "outputId": "b1e233ad-8e84-490c-b555-6960ecc1af07"
      },
      "execution_count": 31,
      "outputs": [
        {
          "output_type": "execute_result",
          "data": {
            "text/plain": [
              "<keras.engine.sequential.Sequential at 0x7f65ff6f9550>"
            ]
          },
          "metadata": {},
          "execution_count": 31
        }
      ]
    },
    {
      "cell_type": "code",
      "source": [
        "prediction=my_model.predict(testX)"
      ],
      "metadata": {
        "id": "L_tJ8v0WIa6L"
      },
      "execution_count": 32,
      "outputs": []
    },
    {
      "cell_type": "code",
      "source": [
        "print(\"prediction\\n\", prediction)\n",
        "print(\"\\nPrediction Shape-\",prediction.shape)"
      ],
      "metadata": {
        "colab": {
          "base_uri": "https://localhost:8080/"
        },
        "id": "jYogP__sId2T",
        "outputId": "1cb3440f-e61b-471a-844e-dbce8c4244b1"
      },
      "execution_count": 33,
      "outputs": [
        {
          "output_type": "stream",
          "name": "stdout",
          "text": [
            "prediction\n",
            " [[0.8089098  0.80576867]\n",
            " [0.80998975 0.80697864]\n",
            " [0.8115978  0.8087948 ]\n",
            " [0.81267947 0.8102687 ]\n",
            " [0.812344   0.8103893 ]\n",
            " [0.8113156  0.8095251 ]\n",
            " [0.81125516 0.8095061 ]\n",
            " [0.8101993  0.8085031 ]\n",
            " [0.80772084 0.8061262 ]\n",
            " [0.8054438  0.8037594 ]\n",
            " [0.8040443  0.8022792 ]\n",
            " [0.80475134 0.80307037]\n",
            " [0.80508107 0.80372804]\n",
            " [0.8034026  0.8020554 ]\n",
            " [0.8008392  0.7992198 ]\n",
            " [0.79688203 0.7949582 ]\n",
            " [0.7946783  0.7929438 ]\n",
            " [0.7946448  0.7935305 ]\n",
            " [0.7955578  0.79503965]\n",
            " [0.79498816 0.79482806]\n",
            " [0.7956919  0.7956385 ]\n",
            " [0.79578227 0.79578453]\n",
            " [0.79435104 0.7943152 ]\n",
            " [0.79316264 0.7927748 ]\n",
            " [0.7887601  0.78790116]\n",
            " [0.78631    0.78502446]\n",
            " [0.78181595 0.7800116 ]\n",
            " [0.7762771  0.77391475]\n",
            " [0.77157265 0.76919234]\n",
            " [0.76631695 0.76434714]\n",
            " [0.7607993  0.7592036 ]\n",
            " [0.7577198  0.7559729 ]\n",
            " [0.7539757  0.7519223 ]\n",
            " [0.75380903 0.7518248 ]\n",
            " [0.7557583  0.754114  ]\n",
            " [0.75789934 0.7565301 ]\n",
            " [0.76045805 0.75920874]\n",
            " [0.7626983  0.76136285]\n",
            " [0.7567683  0.7538758 ]\n",
            " [0.7501467  0.74646235]\n",
            " [0.7447209  0.740881  ]\n",
            " [0.73971677 0.736343  ]\n",
            " [0.73504096 0.73241776]\n",
            " [0.73106956 0.7290494 ]\n",
            " [0.7284033  0.72707385]\n",
            " [0.7280399  0.727581  ]\n",
            " [0.7299077  0.7300699 ]\n",
            " [0.7331124  0.7341193 ]\n",
            " [0.73536295 0.7368289 ]\n",
            " [0.7393014  0.7408615 ]\n",
            " [0.7418701  0.7431336 ]\n",
            " [0.74289936 0.7435455 ]\n",
            " [0.7434521  0.7436833 ]\n",
            " [0.7420989  0.7416101 ]\n",
            " [0.74026245 0.7390772 ]\n",
            " [0.7391258  0.73752433]\n",
            " [0.7405641  0.73905   ]\n",
            " [0.7400777  0.7388057 ]\n",
            " [0.7407316  0.7399015 ]\n",
            " [0.7429773  0.74267983]\n",
            " [0.7478232  0.74793184]\n",
            " [0.75317675 0.7534983 ]\n",
            " [0.7590181  0.75941724]\n",
            " [0.76437265 0.7648075 ]\n",
            " [0.7688323  0.76930726]\n",
            " [0.76986384 0.7704461 ]\n",
            " [0.7688269  0.7692324 ]\n",
            " [0.76763225 0.76752186]\n",
            " [0.7638005  0.7628692 ]\n",
            " [0.7586257  0.757114  ]\n",
            " [0.75115114 0.7492785 ]\n",
            " [0.74534005 0.7430562 ]\n",
            " [0.7381734  0.7354297 ]\n",
            " [0.7306929  0.7274199 ]\n",
            " [0.72501224 0.72151846]\n",
            " [0.7234022  0.72050995]\n",
            " [0.72222817 0.7203488 ]\n",
            " [0.7210399  0.7198774 ]\n",
            " [0.72287434 0.7218006 ]\n",
            " [0.7272106  0.7260619 ]\n",
            " [0.73336667 0.7322715 ]\n",
            " [0.73926383 0.7383401 ]\n",
            " [0.74165446 0.7406934 ]\n",
            " [0.7421604  0.74089974]\n",
            " [0.7441974  0.74268764]\n",
            " [0.74569064 0.74417704]\n",
            " [0.74776703 0.746357  ]\n",
            " [0.75017875 0.7491997 ]\n",
            " [0.75235265 0.7517846 ]\n",
            " [0.75476426 0.7544463 ]\n",
            " [0.7546959  0.754103  ]\n",
            " [0.7529387  0.7521549 ]\n",
            " [0.75258    0.7512745 ]\n",
            " [0.75317055 0.75138277]\n",
            " [0.75398576 0.75183994]\n",
            " [0.7551438  0.7527122 ]\n",
            " [0.7568088  0.75425947]\n",
            " [0.75397986 0.7514644 ]\n",
            " [0.7533642  0.75062156]\n",
            " [0.75424296 0.7514629 ]\n",
            " [0.75681525 0.7546684 ]\n",
            " [0.7605172  0.7591066 ]\n",
            " [0.7627482  0.76199406]\n",
            " [0.7661994  0.76562136]\n",
            " [0.7702136  0.76984334]\n",
            " [0.7721099  0.7718728 ]\n",
            " [0.77421093 0.7737808 ]\n",
            " [0.77635473 0.77580184]\n",
            " [0.7780114  0.7772817 ]\n",
            " [0.7800427  0.77918524]\n",
            " [0.7787761  0.7774873 ]\n",
            " [0.77857596 0.777295  ]\n",
            " [0.777575   0.77627456]\n",
            " [0.77437884 0.7734279 ]\n",
            " [0.77254754 0.7718654 ]\n",
            " [0.77315754 0.7728757 ]\n",
            " [0.77418655 0.77440566]\n",
            " [0.7747316  0.77542776]\n",
            " [0.7763994  0.7772421 ]\n",
            " [0.77613395 0.77712494]\n",
            " [0.77830654 0.7790949 ]\n",
            " [0.78150636 0.7821321 ]\n",
            " [0.7809617  0.781297  ]\n",
            " [0.7818517  0.7817324 ]\n",
            " [0.78151315 0.7813715 ]\n",
            " [0.78125113 0.7809942 ]\n",
            " [0.782502   0.78222865]\n",
            " [0.78206104 0.7818576 ]\n",
            " [0.78236794 0.78227097]\n",
            " [0.7818039  0.78192043]\n",
            " [0.78087276 0.78100437]\n",
            " [0.7802432  0.7802232 ]\n",
            " [0.7805333  0.78043455]\n",
            " [0.78134364 0.78129977]\n",
            " [0.7818771  0.78208834]\n",
            " [0.7840509  0.7844022 ]\n",
            " [0.7852426  0.78578943]\n",
            " [0.7858328  0.7861736 ]\n",
            " [0.7870422  0.78699905]\n",
            " [0.7900817  0.78958565]\n",
            " [0.79295576 0.7922136 ]\n",
            " [0.7938517  0.7931071 ]]\n",
            "\n",
            "Prediction Shape- (142, 2)\n"
          ]
        }
      ]
    },
    {
      "cell_type": "code",
      "source": [
        "prediction.shape"
      ],
      "metadata": {
        "colab": {
          "base_uri": "https://localhost:8080/"
        },
        "id": "2gLKul_DIhJh",
        "outputId": "394ad349-455d-4f46-8533-729800eb70b4"
      },
      "execution_count": 34,
      "outputs": [
        {
          "output_type": "execute_result",
          "data": {
            "text/plain": [
              "(142, 2)"
            ]
          },
          "metadata": {},
          "execution_count": 34
        }
      ]
    },
    {
      "cell_type": "code",
      "source": [
        "scaler.inverse_transform(prediction)"
      ],
      "metadata": {
        "colab": {
          "base_uri": "https://localhost:8080/"
        },
        "id": "6GZc65vRIkAJ",
        "outputId": "9a2b9f4a-69b9-4acf-eb08-ec54de82603d"
      },
      "execution_count": 35,
      "outputs": [
        {
          "output_type": "execute_result",
          "data": {
            "text/plain": [
              "array([[1398.775   ,   18.921143],\n",
              "       [1402.772   ,   18.946552],\n",
              "       [1408.7235  ,   18.98469 ],\n",
              "       [1412.7267  ,   19.015642],\n",
              "       [1411.4851  ,   19.018175],\n",
              "       [1407.679   ,   19.000027],\n",
              "       [1407.4553  ,   18.999628],\n",
              "       [1403.5476  ,   18.978565],\n",
              "       [1394.3748  ,   18.92865 ],\n",
              "       [1385.9475  ,   18.878946],\n",
              "       [1380.768   ,   18.847862],\n",
              "       [1383.3846  ,   18.864477],\n",
              "       [1384.605   ,   18.878288],\n",
              "       [1378.393   ,   18.843164],\n",
              "       [1368.9058  ,   18.783615],\n",
              "       [1354.2604  ,   18.694122],\n",
              "       [1346.1042  ,   18.65182 ],\n",
              "       [1345.9802  ,   18.66414 ],\n",
              "       [1349.3594  ,   18.695833],\n",
              "       [1347.2511  ,   18.69139 ],\n",
              "       [1349.8557  ,   18.708408],\n",
              "       [1350.1901  ,   18.711475],\n",
              "       [1344.8932  ,   18.68062 ],\n",
              "       [1340.4949  ,   18.64827 ],\n",
              "       [1324.2012  ,   18.545925],\n",
              "       [1315.1333  ,   18.485514],\n",
              "       [1298.5007  ,   18.380243],\n",
              "       [1278.0016  ,   18.25221 ],\n",
              "       [1260.5903  ,   18.153038],\n",
              "       [1241.139   ,   18.05129 ],\n",
              "       [1220.7181  ,   17.943275],\n",
              "       [1209.3209  ,   17.875431],\n",
              "       [1195.464   ,   17.790369],\n",
              "       [1194.8472  ,   17.78832 ],\n",
              "       [1202.0614  ,   17.836393],\n",
              "       [1209.9855  ,   17.887133],\n",
              "       [1219.4552  ,   17.943384],\n",
              "       [1227.7463  ,   17.988619],\n",
              "       [1205.7993  ,   17.831392],\n",
              "       [1181.2928  ,   17.675709],\n",
              "       [1161.2119  ,   17.558502],\n",
              "       [1142.6917  ,   17.463203],\n",
              "       [1125.3866  ,   17.380774],\n",
              "       [1110.6884  ,   17.310038],\n",
              "       [1100.8204  ,   17.26855 ],\n",
              "       [1099.4757  ,   17.279202],\n",
              "       [1106.3883  ,   17.331467],\n",
              "       [1118.2489  ,   17.416506],\n",
              "       [1126.5782  ,   17.473408],\n",
              "       [1141.1544  ,   17.55809 ],\n",
              "       [1150.6613  ,   17.605806],\n",
              "       [1154.4705  ,   17.614454],\n",
              "       [1156.5161  ,   17.61735 ],\n",
              "       [1151.508   ,   17.573812],\n",
              "       [1144.7113  ,   17.520622],\n",
              "       [1140.5045  ,   17.48801 ],\n",
              "       [1145.8278  ,   17.52005 ],\n",
              "       [1144.0275  ,   17.51492 ],\n",
              "       [1146.4476  ,   17.537931],\n",
              "       [1154.759   ,   17.596277],\n",
              "       [1172.6935  ,   17.706568],\n",
              "       [1192.5071  ,   17.823465],\n",
              "       [1214.126   ,   17.947762],\n",
              "       [1233.9431  ,   18.060957],\n",
              "       [1250.4484  ,   18.155453],\n",
              "       [1254.266   ,   18.179369],\n",
              "       [1250.4283  ,   18.153881],\n",
              "       [1246.0068  ,   18.117958],\n",
              "       [1231.8256  ,   18.020252],\n",
              "       [1212.6736  ,   17.899393],\n",
              "       [1185.0104  ,   17.734848],\n",
              "       [1163.5034  ,   17.60418 ],\n",
              "       [1136.9797  ,   17.444023],\n",
              "       [1109.2944  ,   17.275818],\n",
              "       [1088.2703  ,   17.151888],\n",
              "       [1082.3115  ,   17.130709],\n",
              "       [1077.9664  ,   17.127325],\n",
              "       [1073.5686  ,   17.117426],\n",
              "       [1080.3579  ,   17.157812],\n",
              "       [1096.4062  ,   17.2473  ],\n",
              "       [1119.19    ,   17.3777  ],\n",
              "       [1141.0154  ,   17.505142],\n",
              "       [1149.863   ,   17.554562],\n",
              "       [1151.7355  ,   17.558895],\n",
              "       [1159.2747  ,   17.596441],\n",
              "       [1164.801   ,   17.627718],\n",
              "       [1172.4857  ,   17.673498],\n",
              "       [1181.4115  ,   17.733192],\n",
              "       [1189.4572  ,   17.787477],\n",
              "       [1198.3824  ,   17.843372],\n",
              "       [1198.1294  ,   17.836163],\n",
              "       [1191.626   ,   17.795252],\n",
              "       [1190.2985  ,   17.776766],\n",
              "       [1192.4841  ,   17.779037],\n",
              "       [1195.5012  ,   17.78864 ],\n",
              "       [1199.7872  ,   17.806955],\n",
              "       [1205.9493  ,   17.839449],\n",
              "       [1195.4794  ,   17.780752],\n",
              "       [1193.2009  ,   17.763052],\n",
              "       [1196.4531  ,   17.78072 ],\n",
              "       [1205.9731  ,   17.848036],\n",
              "       [1219.6741  ,   17.941238],\n",
              "       [1227.9309  ,   18.001875],\n",
              "       [1240.704   ,   18.078049],\n",
              "       [1255.5605  ,   18.16671 ],\n",
              "       [1262.5787  ,   18.20933 ],\n",
              "       [1270.3546  ,   18.249397],\n",
              "       [1278.2888  ,   18.291838],\n",
              "       [1284.42    ,   18.322916],\n",
              "       [1291.938   ,   18.36289 ],\n",
              "       [1287.2504  ,   18.327232],\n",
              "       [1286.5095  ,   18.323195],\n",
              "       [1282.805   ,   18.301765],\n",
              "       [1270.9761  ,   18.241985],\n",
              "       [1264.1984  ,   18.209173],\n",
              "       [1266.4559  ,   18.23039 ],\n",
              "       [1270.2644  ,   18.262518],\n",
              "       [1272.2815  ,   18.283983],\n",
              "       [1278.454   ,   18.322084],\n",
              "       [1277.4717  ,   18.319624],\n",
              "       [1285.5125  ,   18.360992],\n",
              "       [1297.355   ,   18.424774],\n",
              "       [1295.3391  ,   18.407238],\n",
              "       [1298.6332  ,   18.41638 ],\n",
              "       [1297.3801  ,   18.4088  ],\n",
              "       [1296.4104  ,   18.400877],\n",
              "       [1301.0398  ,   18.426802],\n",
              "       [1299.4078  ,   18.41901 ],\n",
              "       [1300.5437  ,   18.42769 ],\n",
              "       [1298.4562  ,   18.420328],\n",
              "       [1295.01    ,   18.401093],\n",
              "       [1292.68    ,   18.384687],\n",
              "       [1293.7538  ,   18.389126],\n",
              "       [1296.7528  ,   18.407295],\n",
              "       [1298.727   ,   18.423855],\n",
              "       [1306.7722  ,   18.472446],\n",
              "       [1311.1829  ,   18.501577],\n",
              "       [1313.3672  ,   18.509645],\n",
              "       [1317.8431  ,   18.52698 ],\n",
              "       [1329.0923  ,   18.581299],\n",
              "       [1339.7292  ,   18.636486],\n",
              "       [1343.045   ,   18.655249]], dtype=float32)"
            ]
          },
          "metadata": {},
          "execution_count": 35
        }
      ]
    },
    {
      "cell_type": "code",
      "source": [
        "prediction_copies_array = np.repeat(prediction,1, axis=-1)"
      ],
      "metadata": {
        "id": "kMwHjU_3IpBv"
      },
      "execution_count": 36,
      "outputs": []
    },
    {
      "cell_type": "code",
      "source": [
        "prediction_copies_array.shape"
      ],
      "metadata": {
        "colab": {
          "base_uri": "https://localhost:8080/"
        },
        "id": "rTU9PBR4IqMn",
        "outputId": "d735a922-d734-4bd7-cc78-e2424eedaec9"
      },
      "execution_count": 37,
      "outputs": [
        {
          "output_type": "execute_result",
          "data": {
            "text/plain": [
              "(142, 2)"
            ]
          },
          "metadata": {},
          "execution_count": 37
        }
      ]
    },
    {
      "cell_type": "code",
      "source": [
        "prediction_copies_array"
      ],
      "metadata": {
        "colab": {
          "base_uri": "https://localhost:8080/"
        },
        "id": "Q9n33E5SIsNk",
        "outputId": "028f14ec-848f-4a13-a15b-bc19a88e8f1a"
      },
      "execution_count": 38,
      "outputs": [
        {
          "output_type": "execute_result",
          "data": {
            "text/plain": [
              "array([[0.8089098 , 0.80576867],\n",
              "       [0.80998975, 0.80697864],\n",
              "       [0.8115978 , 0.8087948 ],\n",
              "       [0.81267947, 0.8102687 ],\n",
              "       [0.812344  , 0.8103893 ],\n",
              "       [0.8113156 , 0.8095251 ],\n",
              "       [0.81125516, 0.8095061 ],\n",
              "       [0.8101993 , 0.8085031 ],\n",
              "       [0.80772084, 0.8061262 ],\n",
              "       [0.8054438 , 0.8037594 ],\n",
              "       [0.8040443 , 0.8022792 ],\n",
              "       [0.80475134, 0.80307037],\n",
              "       [0.80508107, 0.80372804],\n",
              "       [0.8034026 , 0.8020554 ],\n",
              "       [0.8008392 , 0.7992198 ],\n",
              "       [0.79688203, 0.7949582 ],\n",
              "       [0.7946783 , 0.7929438 ],\n",
              "       [0.7946448 , 0.7935305 ],\n",
              "       [0.7955578 , 0.79503965],\n",
              "       [0.79498816, 0.79482806],\n",
              "       [0.7956919 , 0.7956385 ],\n",
              "       [0.79578227, 0.79578453],\n",
              "       [0.79435104, 0.7943152 ],\n",
              "       [0.79316264, 0.7927748 ],\n",
              "       [0.7887601 , 0.78790116],\n",
              "       [0.78631   , 0.78502446],\n",
              "       [0.78181595, 0.7800116 ],\n",
              "       [0.7762771 , 0.77391475],\n",
              "       [0.77157265, 0.76919234],\n",
              "       [0.76631695, 0.76434714],\n",
              "       [0.7607993 , 0.7592036 ],\n",
              "       [0.7577198 , 0.7559729 ],\n",
              "       [0.7539757 , 0.7519223 ],\n",
              "       [0.75380903, 0.7518248 ],\n",
              "       [0.7557583 , 0.754114  ],\n",
              "       [0.75789934, 0.7565301 ],\n",
              "       [0.76045805, 0.75920874],\n",
              "       [0.7626983 , 0.76136285],\n",
              "       [0.7567683 , 0.7538758 ],\n",
              "       [0.7501467 , 0.74646235],\n",
              "       [0.7447209 , 0.740881  ],\n",
              "       [0.73971677, 0.736343  ],\n",
              "       [0.73504096, 0.73241776],\n",
              "       [0.73106956, 0.7290494 ],\n",
              "       [0.7284033 , 0.72707385],\n",
              "       [0.7280399 , 0.727581  ],\n",
              "       [0.7299077 , 0.7300699 ],\n",
              "       [0.7331124 , 0.7341193 ],\n",
              "       [0.73536295, 0.7368289 ],\n",
              "       [0.7393014 , 0.7408615 ],\n",
              "       [0.7418701 , 0.7431336 ],\n",
              "       [0.74289936, 0.7435455 ],\n",
              "       [0.7434521 , 0.7436833 ],\n",
              "       [0.7420989 , 0.7416101 ],\n",
              "       [0.74026245, 0.7390772 ],\n",
              "       [0.7391258 , 0.73752433],\n",
              "       [0.7405641 , 0.73905   ],\n",
              "       [0.7400777 , 0.7388057 ],\n",
              "       [0.7407316 , 0.7399015 ],\n",
              "       [0.7429773 , 0.74267983],\n",
              "       [0.7478232 , 0.74793184],\n",
              "       [0.75317675, 0.7534983 ],\n",
              "       [0.7590181 , 0.75941724],\n",
              "       [0.76437265, 0.7648075 ],\n",
              "       [0.7688323 , 0.76930726],\n",
              "       [0.76986384, 0.7704461 ],\n",
              "       [0.7688269 , 0.7692324 ],\n",
              "       [0.76763225, 0.76752186],\n",
              "       [0.7638005 , 0.7628692 ],\n",
              "       [0.7586257 , 0.757114  ],\n",
              "       [0.75115114, 0.7492785 ],\n",
              "       [0.74534005, 0.7430562 ],\n",
              "       [0.7381734 , 0.7354297 ],\n",
              "       [0.7306929 , 0.7274199 ],\n",
              "       [0.72501224, 0.72151846],\n",
              "       [0.7234022 , 0.72050995],\n",
              "       [0.72222817, 0.7203488 ],\n",
              "       [0.7210399 , 0.7198774 ],\n",
              "       [0.72287434, 0.7218006 ],\n",
              "       [0.7272106 , 0.7260619 ],\n",
              "       [0.73336667, 0.7322715 ],\n",
              "       [0.73926383, 0.7383401 ],\n",
              "       [0.74165446, 0.7406934 ],\n",
              "       [0.7421604 , 0.74089974],\n",
              "       [0.7441974 , 0.74268764],\n",
              "       [0.74569064, 0.74417704],\n",
              "       [0.74776703, 0.746357  ],\n",
              "       [0.75017875, 0.7491997 ],\n",
              "       [0.75235265, 0.7517846 ],\n",
              "       [0.75476426, 0.7544463 ],\n",
              "       [0.7546959 , 0.754103  ],\n",
              "       [0.7529387 , 0.7521549 ],\n",
              "       [0.75258   , 0.7512745 ],\n",
              "       [0.75317055, 0.75138277],\n",
              "       [0.75398576, 0.75183994],\n",
              "       [0.7551438 , 0.7527122 ],\n",
              "       [0.7568088 , 0.75425947],\n",
              "       [0.75397986, 0.7514644 ],\n",
              "       [0.7533642 , 0.75062156],\n",
              "       [0.75424296, 0.7514629 ],\n",
              "       [0.75681525, 0.7546684 ],\n",
              "       [0.7605172 , 0.7591066 ],\n",
              "       [0.7627482 , 0.76199406],\n",
              "       [0.7661994 , 0.76562136],\n",
              "       [0.7702136 , 0.76984334],\n",
              "       [0.7721099 , 0.7718728 ],\n",
              "       [0.77421093, 0.7737808 ],\n",
              "       [0.77635473, 0.77580184],\n",
              "       [0.7780114 , 0.7772817 ],\n",
              "       [0.7800427 , 0.77918524],\n",
              "       [0.7787761 , 0.7774873 ],\n",
              "       [0.77857596, 0.777295  ],\n",
              "       [0.777575  , 0.77627456],\n",
              "       [0.77437884, 0.7734279 ],\n",
              "       [0.77254754, 0.7718654 ],\n",
              "       [0.77315754, 0.7728757 ],\n",
              "       [0.77418655, 0.77440566],\n",
              "       [0.7747316 , 0.77542776],\n",
              "       [0.7763994 , 0.7772421 ],\n",
              "       [0.77613395, 0.77712494],\n",
              "       [0.77830654, 0.7790949 ],\n",
              "       [0.78150636, 0.7821321 ],\n",
              "       [0.7809617 , 0.781297  ],\n",
              "       [0.7818517 , 0.7817324 ],\n",
              "       [0.78151315, 0.7813715 ],\n",
              "       [0.78125113, 0.7809942 ],\n",
              "       [0.782502  , 0.78222865],\n",
              "       [0.78206104, 0.7818576 ],\n",
              "       [0.78236794, 0.78227097],\n",
              "       [0.7818039 , 0.78192043],\n",
              "       [0.78087276, 0.78100437],\n",
              "       [0.7802432 , 0.7802232 ],\n",
              "       [0.7805333 , 0.78043455],\n",
              "       [0.78134364, 0.78129977],\n",
              "       [0.7818771 , 0.78208834],\n",
              "       [0.7840509 , 0.7844022 ],\n",
              "       [0.7852426 , 0.78578943],\n",
              "       [0.7858328 , 0.7861736 ],\n",
              "       [0.7870422 , 0.78699905],\n",
              "       [0.7900817 , 0.78958565],\n",
              "       [0.79295576, 0.7922136 ],\n",
              "       [0.7938517 , 0.7931071 ]], dtype=float32)"
            ]
          },
          "metadata": {},
          "execution_count": 38
        }
      ]
    },
    {
      "cell_type": "code",
      "source": [
        "pred=scaler.inverse_transform(np.reshape(prediction_copies_array,(len(prediction),2)))[:,0]"
      ],
      "metadata": {
        "id": "JT6CEeGVIvhg"
      },
      "execution_count": 39,
      "outputs": []
    },
    {
      "cell_type": "code",
      "source": [
        "pred"
      ],
      "metadata": {
        "colab": {
          "base_uri": "https://localhost:8080/"
        },
        "id": "DiFtdrXnMcJa",
        "outputId": "f15dad34-da66-4fca-f75b-c844949d788f"
      },
      "execution_count": 40,
      "outputs": [
        {
          "output_type": "execute_result",
          "data": {
            "text/plain": [
              "array([1398.775 , 1402.772 , 1408.7235, 1412.7267, 1411.4851, 1407.679 ,\n",
              "       1407.4553, 1403.5476, 1394.3748, 1385.9475, 1380.768 , 1383.3846,\n",
              "       1384.605 , 1378.393 , 1368.9058, 1354.2604, 1346.1042, 1345.9802,\n",
              "       1349.3594, 1347.2511, 1349.8557, 1350.1901, 1344.8932, 1340.4949,\n",
              "       1324.2012, 1315.1333, 1298.5007, 1278.0016, 1260.5903, 1241.139 ,\n",
              "       1220.7181, 1209.3209, 1195.464 , 1194.8472, 1202.0614, 1209.9855,\n",
              "       1219.4552, 1227.7463, 1205.7993, 1181.2928, 1161.2119, 1142.6917,\n",
              "       1125.3866, 1110.6884, 1100.8204, 1099.4757, 1106.3883, 1118.2489,\n",
              "       1126.5782, 1141.1544, 1150.6613, 1154.4705, 1156.5161, 1151.508 ,\n",
              "       1144.7113, 1140.5045, 1145.8278, 1144.0275, 1146.4476, 1154.759 ,\n",
              "       1172.6935, 1192.5071, 1214.126 , 1233.9431, 1250.4484, 1254.266 ,\n",
              "       1250.4283, 1246.0068, 1231.8256, 1212.6736, 1185.0104, 1163.5034,\n",
              "       1136.9797, 1109.2944, 1088.2703, 1082.3115, 1077.9664, 1073.5686,\n",
              "       1080.3579, 1096.4062, 1119.19  , 1141.0154, 1149.863 , 1151.7355,\n",
              "       1159.2747, 1164.801 , 1172.4857, 1181.4115, 1189.4572, 1198.3824,\n",
              "       1198.1294, 1191.626 , 1190.2985, 1192.4841, 1195.5012, 1199.7872,\n",
              "       1205.9493, 1195.4794, 1193.2009, 1196.4531, 1205.9731, 1219.6741,\n",
              "       1227.9309, 1240.704 , 1255.5605, 1262.5787, 1270.3546, 1278.2888,\n",
              "       1284.42  , 1291.938 , 1287.2504, 1286.5095, 1282.805 , 1270.9761,\n",
              "       1264.1984, 1266.4559, 1270.2644, 1272.2815, 1278.454 , 1277.4717,\n",
              "       1285.5125, 1297.355 , 1295.3391, 1298.6332, 1297.3801, 1296.4104,\n",
              "       1301.0398, 1299.4078, 1300.5437, 1298.4562, 1295.01  , 1292.68  ,\n",
              "       1293.7538, 1296.7528, 1298.727 , 1306.7722, 1311.1829, 1313.3672,\n",
              "       1317.8431, 1329.0923, 1339.7292, 1343.045 ], dtype=float32)"
            ]
          },
          "metadata": {},
          "execution_count": 40
        }
      ]
    },
    {
      "cell_type": "code",
      "source": [
        "original_copies_array = np.repeat(testY,2, axis=-1)\n",
        "\n",
        "original_copies_array.shape\n",
        "\n",
        "original=scaler.inverse_transform(np.reshape(original_copies_array,(len(testY),2)))[:,0]"
      ],
      "metadata": {
        "id": "9bXt2XDoMkdI"
      },
      "execution_count": 41,
      "outputs": []
    },
    {
      "cell_type": "code",
      "source": [
        "pred"
      ],
      "metadata": {
        "colab": {
          "base_uri": "https://localhost:8080/"
        },
        "id": "EDaFrLFpMnVX",
        "outputId": "e21a1cff-af94-40ec-f995-5a516010c497"
      },
      "execution_count": 42,
      "outputs": [
        {
          "output_type": "execute_result",
          "data": {
            "text/plain": [
              "array([1398.775 , 1402.772 , 1408.7235, 1412.7267, 1411.4851, 1407.679 ,\n",
              "       1407.4553, 1403.5476, 1394.3748, 1385.9475, 1380.768 , 1383.3846,\n",
              "       1384.605 , 1378.393 , 1368.9058, 1354.2604, 1346.1042, 1345.9802,\n",
              "       1349.3594, 1347.2511, 1349.8557, 1350.1901, 1344.8932, 1340.4949,\n",
              "       1324.2012, 1315.1333, 1298.5007, 1278.0016, 1260.5903, 1241.139 ,\n",
              "       1220.7181, 1209.3209, 1195.464 , 1194.8472, 1202.0614, 1209.9855,\n",
              "       1219.4552, 1227.7463, 1205.7993, 1181.2928, 1161.2119, 1142.6917,\n",
              "       1125.3866, 1110.6884, 1100.8204, 1099.4757, 1106.3883, 1118.2489,\n",
              "       1126.5782, 1141.1544, 1150.6613, 1154.4705, 1156.5161, 1151.508 ,\n",
              "       1144.7113, 1140.5045, 1145.8278, 1144.0275, 1146.4476, 1154.759 ,\n",
              "       1172.6935, 1192.5071, 1214.126 , 1233.9431, 1250.4484, 1254.266 ,\n",
              "       1250.4283, 1246.0068, 1231.8256, 1212.6736, 1185.0104, 1163.5034,\n",
              "       1136.9797, 1109.2944, 1088.2703, 1082.3115, 1077.9664, 1073.5686,\n",
              "       1080.3579, 1096.4062, 1119.19  , 1141.0154, 1149.863 , 1151.7355,\n",
              "       1159.2747, 1164.801 , 1172.4857, 1181.4115, 1189.4572, 1198.3824,\n",
              "       1198.1294, 1191.626 , 1190.2985, 1192.4841, 1195.5012, 1199.7872,\n",
              "       1205.9493, 1195.4794, 1193.2009, 1196.4531, 1205.9731, 1219.6741,\n",
              "       1227.9309, 1240.704 , 1255.5605, 1262.5787, 1270.3546, 1278.2888,\n",
              "       1284.42  , 1291.938 , 1287.2504, 1286.5095, 1282.805 , 1270.9761,\n",
              "       1264.1984, 1266.4559, 1270.2644, 1272.2815, 1278.454 , 1277.4717,\n",
              "       1285.5125, 1297.355 , 1295.3391, 1298.6332, 1297.3801, 1296.4104,\n",
              "       1301.0398, 1299.4078, 1300.5437, 1298.4562, 1295.01  , 1292.68  ,\n",
              "       1293.7538, 1296.7528, 1298.727 , 1306.7722, 1311.1829, 1313.3672,\n",
              "       1317.8431, 1329.0923, 1339.7292, 1343.045 ], dtype=float32)"
            ]
          },
          "metadata": {},
          "execution_count": 42
        }
      ]
    },
    {
      "cell_type": "code",
      "source": [
        "print(\"Pred Values-- \" ,pred)\n",
        "print(\"\\nOriginal Values-- \",original)"
      ],
      "metadata": {
        "colab": {
          "base_uri": "https://localhost:8080/"
        },
        "id": "dDZ0OTRDM0no",
        "outputId": "f0bf0d22-e3e0-4802-9fd4-45ac8de50e0c"
      },
      "execution_count": 43,
      "outputs": [
        {
          "output_type": "stream",
          "name": "stdout",
          "text": [
            "Pred Values--  [1398.775  1402.772  1408.7235 1412.7267 1411.4851 1407.679  1407.4553\n",
            " 1403.5476 1394.3748 1385.9475 1380.768  1383.3846 1384.605  1378.393\n",
            " 1368.9058 1354.2604 1346.1042 1345.9802 1349.3594 1347.2511 1349.8557\n",
            " 1350.1901 1344.8932 1340.4949 1324.2012 1315.1333 1298.5007 1278.0016\n",
            " 1260.5903 1241.139  1220.7181 1209.3209 1195.464  1194.8472 1202.0614\n",
            " 1209.9855 1219.4552 1227.7463 1205.7993 1181.2928 1161.2119 1142.6917\n",
            " 1125.3866 1110.6884 1100.8204 1099.4757 1106.3883 1118.2489 1126.5782\n",
            " 1141.1544 1150.6613 1154.4705 1156.5161 1151.508  1144.7113 1140.5045\n",
            " 1145.8278 1144.0275 1146.4476 1154.759  1172.6935 1192.5071 1214.126\n",
            " 1233.9431 1250.4484 1254.266  1250.4283 1246.0068 1231.8256 1212.6736\n",
            " 1185.0104 1163.5034 1136.9797 1109.2944 1088.2703 1082.3115 1077.9664\n",
            " 1073.5686 1080.3579 1096.4062 1119.19   1141.0154 1149.863  1151.7355\n",
            " 1159.2747 1164.801  1172.4857 1181.4115 1189.4572 1198.3824 1198.1294\n",
            " 1191.626  1190.2985 1192.4841 1195.5012 1199.7872 1205.9493 1195.4794\n",
            " 1193.2009 1196.4531 1205.9731 1219.6741 1227.9309 1240.704  1255.5605\n",
            " 1262.5787 1270.3546 1278.2888 1284.42   1291.938  1287.2504 1286.5095\n",
            " 1282.805  1270.9761 1264.1984 1266.4559 1270.2644 1272.2815 1278.454\n",
            " 1277.4717 1285.5125 1297.355  1295.3391 1298.6332 1297.3801 1296.4104\n",
            " 1301.0398 1299.4078 1300.5437 1298.4562 1295.01   1292.68   1293.7538\n",
            " 1296.7528 1298.727  1306.7722 1311.1829 1313.3672 1317.8431 1329.0923\n",
            " 1339.7292 1343.045 ]\n",
            "\n",
            "Original Values--  [1517. 1519. 1535. 1555. 1497. 1514. 1453. 1479. 1459. 1479. 1537. 1550.\n",
            " 1374. 1287. 1209. 1433. 1580. 1541. 1442. 1477. 1446. 1432. 1365. 1228.\n",
            " 1356. 1125. 1023. 1195. 1289. 1338. 1236. 1116. 1386. 1448. 1397. 1406.\n",
            " 1356.  447.  881.  967. 1028. 1067.  998. 1083. 1244. 1191. 1372. 1287.\n",
            " 1355. 1204. 1109. 1247. 1046. 1042. 1098. 1242. 1114. 1304. 1421. 1466.\n",
            " 1394. 1378. 1346. 1321. 1305. 1292. 1235.  977. 1051. 1066. 1089.  920.\n",
            "  831.  906. 1208. 1284. 1291. 1259. 1265. 1310. 1296. 1145. 1115. 1212.\n",
            " 1204. 1226. 1345. 1356. 1379. 1148. 1311. 1292. 1288. 1275. 1245. 1242.\n",
            " 1161. 1211. 1204. 1430. 1443. 1427. 1384. 1443. 1402. 1376. 1422. 1370.\n",
            " 1388. 1095. 1347. 1170. 1260. 1324. 1407. 1399. 1436. 1411. 1439. 1471.\n",
            " 1456. 1268. 1314. 1398. 1357. 1402. 1313. 1379. 1402. 1371. 1344. 1381.\n",
            " 1398. 1483. 1514. 1543. 1472. 1501. 1483. 1436. 1453. 1518.]\n"
          ]
        }
      ]
    },
    {
      "cell_type": "code",
      "source": [
        "import matplotlib.pyplot as plt"
      ],
      "metadata": {
        "id": "i9oM8sXUM-Vy"
      },
      "execution_count": 44,
      "outputs": []
    },
    {
      "cell_type": "code",
      "source": [
        "plt.plot(original, color = 'red', label = 'Real Wave Value')\n",
        "plt.plot(pred, color = 'blue', label = 'Predicted Wave Price')\n",
        "plt.title(' Wave Prediction')\n",
        "plt.xlabel('Time')\n",
        "plt.ylabel(' Wave')\n",
        "plt.legend()\n",
        "plt.show()"
      ],
      "metadata": {
        "colab": {
          "base_uri": "https://localhost:8080/",
          "height": 295
        },
        "id": "E2ZpS5xLNBM-",
        "outputId": "149573d5-a1ce-4820-ca9d-b24db990f63d"
      },
      "execution_count": 45,
      "outputs": [
        {
          "output_type": "display_data",
          "data": {
            "text/plain": [
              "<Figure size 432x288 with 1 Axes>"
            ],
            "image/png": "[encoded data removed]"
          },
          "metadata": {
            "needs_background": "light"
          }
        }
      ]
    },
    {
      "cell_type": "code",
      "source": [
        "df_30_days_past=df.iloc[-30:,:]"
      ],
      "metadata": {
        "id": "d0e3FgklNVfD"
      },
      "execution_count": 46,
      "outputs": []
    },
    {
      "cell_type": "code",
      "source": [
        "df_30_days_past"
      ],
      "metadata": {
        "colab": {
          "base_uri": "https://localhost:8080/",
          "height": 1000
        },
        "id": "LmL6BJ9vNWnu",
        "outputId": "36d62fbd-6996-48fd-be2d-384673b16a55"
      },
      "execution_count": 47,
      "outputs": [
        {
          "output_type": "execute_result",
          "data": {
            "text/plain": [
              "            Wave  Wind\n",
              "Date                  \n",
              "2022-04-11  1260     7\n",
              "2022-04-12  1324     5\n",
              "2022-04-13  1407     3\n",
              "2022-04-14  1399     4\n",
              "2022-04-15  1436     6\n",
              "2022-04-16  1411     4\n",
              "2022-04-17  1439     8\n",
              "2022-04-18  1471     4\n",
              "2022-04-19  1456     3\n",
              "2022-04-20  1268     7\n",
              "2022-04-21  1314     3\n",
              "2022-04-22  1398     6\n",
              "2022-04-23  1357     5\n",
              "2022-04-24  1402     3\n",
              "2022-04-25  1313     5\n",
              "2022-04-26  1379     4\n",
              "2022-04-27  1402     6\n",
              "2022-04-28  1371     6\n",
              "2022-04-29  1344     5\n",
              "2022-04-30  1381     4\n",
              "2022-05-01  1398     4\n",
              "2022-05-02  1483     6\n",
              "2022-05-03  1514     4\n",
              "2022-05-04  1543     7\n",
              "2022-05-05  1472     7\n",
              "2022-05-06  1501     6\n",
              "2022-05-07  1483     3\n",
              "2022-05-08  1436     3\n",
              "2022-05-09  1453     6\n",
              "2022-05-10  1518     6"
            ],
            "text/html": [
              "\n",
              "  <div id=\"df-99bd87dd-6b6a-45a2-b870-ffb452888086\">\n",
              "    <div class=\"colab-df-container\">\n",
              "      <div>\n",
              "<style scoped>\n",
              "    .dataframe tbody tr th:only-of-type {\n",
              "        vertical-align: middle;\n",
              "    }\n",
              "\n",
              "    .dataframe tbody tr th {\n",
              "        vertical-align: top;\n",
              "    }\n",
              "\n",
              "    .dataframe thead th {\n",
              "        text-align: right;\n",
              "    }\n",
              "</style>\n",
              "<table border=\"1\" class=\"dataframe\">\n",
              "  <thead>\n",
              "    <tr style=\"text-align: right;\">\n",
              "      <th></th>\n",
              "      <th>Wave</th>\n",
              "      <th>Wind</th>\n",
              "    </tr>\n",
              "    <tr>\n",
              "      <th>Date</th>\n",
              "      <th></th>\n",
              "      <th></th>\n",
              "    </tr>\n",
              "  </thead>\n",
              "  <tbody>\n",
              "    <tr>\n",
              "      <th>2022-04-11</th>\n",
              "      <td>1260</td>\n",
              "      <td>7</td>\n",
              "    </tr>\n",
              "    <tr>\n",
              "      <th>2022-04-12</th>\n",
              "      <td>1324</td>\n",
              "      <td>5</td>\n",
              "    </tr>\n",
              "    <tr>\n",
              "      <th>2022-04-13</th>\n",
              "      <td>1407</td>\n",
              "      <td>3</td>\n",
              "    </tr>\n",
              "    <tr>\n",
              "      <th>2022-04-14</th>\n",
              "      <td>1399</td>\n",
              "      <td>4</td>\n",
              "    </tr>\n",
              "    <tr>\n",
              "      <th>2022-04-15</th>\n",
              "      <td>1436</td>\n",
              "      <td>6</td>\n",
              "    </tr>\n",
              "    <tr>\n",
              "      <th>2022-04-16</th>\n",
              "      <td>1411</td>\n",
              "      <td>4</td>\n",
              "    </tr>\n",
              "    <tr>\n",
              "      <th>2022-04-17</th>\n",
              "      <td>1439</td>\n",
              "      <td>8</td>\n",
              "    </tr>\n",
              "    <tr>\n",
              "      <th>2022-04-18</th>\n",
              "      <td>1471</td>\n",
              "      <td>4</td>\n",
              "    </tr>\n",
              "    <tr>\n",
              "      <th>2022-04-19</th>\n",
              "      <td>1456</td>\n",
              "      <td>3</td>\n",
              "    </tr>\n",
              "    <tr>\n",
              "      <th>2022-04-20</th>\n",
              "      <td>1268</td>\n",
              "      <td>7</td>\n",
              "    </tr>\n",
              "    <tr>\n",
              "      <th>2022-04-21</th>\n",
              "      <td>1314</td>\n",
              "      <td>3</td>\n",
              "    </tr>\n",
              "    <tr>\n",
              "      <th>2022-04-22</th>\n",
              "      <td>1398</td>\n",
              "      <td>6</td>\n",
              "    </tr>\n",
              "    <tr>\n",
              "      <th>2022-04-23</th>\n",
              "      <td>1357</td>\n",
              "      <td>5</td>\n",
              "    </tr>\n",
              "    <tr>\n",
              "      <th>2022-04-24</th>\n",
              "      <td>1402</td>\n",
              "      <td>3</td>\n",
              "    </tr>\n",
              "    <tr>\n",
              "      <th>2022-04-25</th>\n",
              "      <td>1313</td>\n",
              "      <td>5</td>\n",
              "    </tr>\n",
              "    <tr>\n",
              "      <th>2022-04-26</th>\n",
              "      <td>1379</td>\n",
              "      <td>4</td>\n",
              "    </tr>\n",
              "    <tr>\n",
              "      <th>2022-04-27</th>\n",
              "      <td>1402</td>\n",
              "      <td>6</td>\n",
              "    </tr>\n",
              "    <tr>\n",
              "      <th>2022-04-28</th>\n",
              "      <td>1371</td>\n",
              "      <td>6</td>\n",
              "    </tr>\n",
              "    <tr>\n",
              "      <th>2022-04-29</th>\n",
              "      <td>1344</td>\n",
              "      <td>5</td>\n",
              "    </tr>\n",
              "    <tr>\n",
              "      <th>2022-04-30</th>\n",
              "      <td>1381</td>\n",
              "      <td>4</td>\n",
              "    </tr>\n",
              "    <tr>\n",
              "      <th>2022-05-01</th>\n",
              "      <td>1398</td>\n",
              "      <td>4</td>\n",
              "    </tr>\n",
              "    <tr>\n",
              "      <th>2022-05-02</th>\n",
              "      <td>1483</td>\n",
              "      <td>6</td>\n",
              "    </tr>\n",
              "    <tr>\n",
              "      <th>2022-05-03</th>\n",
              "      <td>1514</td>\n",
              "      <td>4</td>\n",
              "    </tr>\n",
              "    <tr>\n",
              "      <th>2022-05-04</th>\n",
              "      <td>1543</td>\n",
              "      <td>7</td>\n",
              "    </tr>\n",
              "    <tr>\n",
              "      <th>2022-05-05</th>\n",
              "      <td>1472</td>\n",
              "      <td>7</td>\n",
              "    </tr>\n",
              "    <tr>\n",
              "      <th>2022-05-06</th>\n",
              "      <td>1501</td>\n",
              "      <td>6</td>\n",
              "    </tr>\n",
              "    <tr>\n",
              "      <th>2022-05-07</th>\n",
              "      <td>1483</td>\n",
              "      <td>3</td>\n",
              "    </tr>\n",
              "    <tr>\n",
              "      <th>2022-05-08</th>\n",
              "      <td>1436</td>\n",
              "      <td>3</td>\n",
              "    </tr>\n",
              "    <tr>\n",
              "      <th>2022-05-09</th>\n",
              "      <td>1453</td>\n",
              "      <td>6</td>\n",
              "    </tr>\n",
              "    <tr>\n",
              "      <th>2022-05-10</th>\n",
              "      <td>1518</td>\n",
              "      <td>6</td>\n",
              "    </tr>\n",
              "  </tbody>\n",
              "</table>\n",
              "</div>\n",
              "      <button class=\"colab-df-convert\" onclick=\"convertToInteractive('df-99bd87dd-6b6a-45a2-b870-ffb452888086')\"\n",
              "              title=\"Convert this dataframe to an interactive table.\"\n",
              "              style=\"display:none;\">\n",
              "        \n",
              "  <svg xmlns=\"http://www.w3.org/2000/svg\" height=\"24px\"viewBox=\"0 0 24 24\"\n",
              "       width=\"24px\">\n",
              "    <path d=\"M0 0h24v24H0V0z\" fill=\"none\"/>\n",
              "    <path d=\"M18.56 5.44l.94 2.06.94-2.06 2.06-.94-2.06-.94-.94-2.06-.94 2.06-2.06.94zm-11 1L8.5 8.5l.94-2.06 2.06-.94-2.06-.94L8.5 2.5l-.94 2.06-2.06.94zm10 10l.94 2.06.94-2.06 2.06-.94-2.06-.94-.94-2.06-.94 2.06-2.06.94z\"/><path d=\"M17.41 7.96l-1.37-1.37c-.4-.4-.92-.59-1.43-.59-.52 0-1.04.2-1.43.59L10.3 9.45l-7.72 7.72c-.78.78-.78 2.05 0 2.83L4 21.41c.39.39.9.59 1.41.59.51 0 1.02-.2 1.41-.59l7.78-7.78 2.81-2.81c.8-.78.8-2.07 0-2.86zM5.41 20L4 18.59l7.72-7.72 1.47 1.35L5.41 20z\"/>\n",
              "  </svg>\n",
              "      </button>\n",
              "      \n",
              "  <style>\n",
              "    .colab-df-container {\n",
              "      display:flex;\n",
              "      flex-wrap:wrap;\n",
              "      gap: 12px;\n",
              "    }\n",
              "\n",
              "    .colab-df-convert {\n",
              "      background-color: #E8F0FE;\n",
              "      border: none;\n",
              "      border-radius: 50%;\n",
              "      cursor: pointer;\n",
              "      display: none;\n",
              "      fill: #1967D2;\n",
              "      height: 32px;\n",
              "      padding: 0 0 0 0;\n",
              "      width: 32px;\n",
              "    }\n",
              "\n",
              "    .colab-df-convert:hover {\n",
              "      background-color: #E2EBFA;\n",
              "      box-shadow: 0px 1px 2px rgba(60, 64, 67, 0.3), 0px 1px 3px 1px rgba(60, 64, 67, 0.15);\n",
              "      fill: #174EA6;\n",
              "    }\n",
              "\n",
              "    [theme=dark] .colab-df-convert {\n",
              "      background-color: #3B4455;\n",
              "      fill: #D2E3FC;\n",
              "    }\n",
              "\n",
              "    [theme=dark] .colab-df-convert:hover {\n",
              "      background-color: #434B5C;\n",
              "      box-shadow: 0px 1px 3px 1px rgba(0, 0, 0, 0.15);\n",
              "      filter: drop-shadow(0px 1px 2px rgba(0, 0, 0, 0.3));\n",
              "      fill: #FFFFFF;\n",
              "    }\n",
              "  </style>\n",
              "\n",
              "      <script>\n",
              "        const buttonEl =\n",
              "          document.querySelector('#df-99bd87dd-6b6a-45a2-b870-ffb452888086 button.colab-df-convert');\n",
              "        buttonEl.style.display =\n",
              "          google.colab.kernel.accessAllowed ? 'block' : 'none';\n",
              "\n",
              "        async function convertToInteractive(key) {\n",
              "          const element = document.querySelector('#df-99bd87dd-6b6a-45a2-b870-ffb452888086');\n",
              "          const dataTable =\n",
              "            await google.colab.kernel.invokeFunction('convertToInteractive',\n",
              "                                                     [key], {});\n",
              "          if (!dataTable) return;\n",
              "\n",
              "          const docLinkHtml = 'Like what you see? Visit the ' +\n",
              "            '<a target=\"_blank\" href=https://colab.research.google.com/notebooks/data_table.ipynb>data table notebook</a>'\n",
              "            + ' to learn more about interactive tables.';\n",
              "          element.innerHTML = '';\n",
              "          dataTable['output_type'] = 'display_data';\n",
              "          await google.colab.output.renderOutput(dataTable, element);\n",
              "          const docLink = document.createElement('div');\n",
              "          docLink.innerHTML = docLinkHtml;\n",
              "          element.appendChild(docLink);\n",
              "        }\n",
              "      </script>\n",
              "    </div>\n",
              "  </div>\n",
              "  "
            ]
          },
          "metadata": {},
          "execution_count": 47
        }
      ]
    },
    {
      "cell_type": "code",
      "source": [
        "from tensorflow.keras.models import Model\n",
        "from tensorflow.keras.models import load_model"
      ],
      "metadata": {
        "id": "Dbt0kwoINawT"
      },
      "execution_count": 48,
      "outputs": []
    },
    {
      "cell_type": "code",
      "source": [
        "import joblib\n",
        "scalerfile = 'lstm_prediksi_berlayar.pkl'\n",
        "joblib.dump(scaler, open(scalerfile, 'wb'))"
      ],
      "metadata": {
        "id": "ahnjESxvORCf"
      },
      "execution_count": 52,
      "outputs": []
    }
  ]
}